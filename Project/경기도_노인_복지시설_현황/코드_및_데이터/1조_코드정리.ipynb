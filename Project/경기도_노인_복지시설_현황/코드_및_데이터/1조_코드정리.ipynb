{
 "cells": [
  {
   "cell_type": "markdown",
   "metadata": {},
   "source": [
    "# 1조(황상욱, 박세지, 현세민, 김지원, 최종엽) - 전체코드 정리"
   ]
  },
  {
   "cell_type": "code",
   "execution_count": null,
   "metadata": {},
   "outputs": [],
   "source": [
    "import os\n",
    "import csv\n",
    "import numpy as np\n",
    "import pandas as pd\n",
    "import seaborn as sns\n",
    "from matplotlib import pyplot as plt\n",
    "# matplotlib의 한글문제를 해결\n",
    "from matplotlib import font_manager, rc \n",
    "%matplotlib inline \n",
    "font_name = font_manager.FontProperties(fname=\"c:/Windows/Fonts/malgun.ttf\").get_name()\n",
    "rc('font', family=font_name) # font_name\n",
    "\n",
    "\n",
    "os.getcwd() # ***  경로확인 필수!! ***\n",
    "os.chdir('C:/Users/4/Bdata') # *** 경로설정(자신의 경로에 맞게 설정) ***\n"
   ]
  },
  {
   "cell_type": "markdown",
   "metadata": {},
   "source": [
    "#  < 60세 이상 인구증가 추이 > "
   ]
  },
  {
   "cell_type": "code",
   "execution_count": 2,
   "metadata": {
    "scrolled": true
   },
   "outputs": [
    {
     "name": "stderr",
     "output_type": "stream",
     "text": [
      "C:\\Users\\4\\Anaconda3\\lib\\site-packages\\ipykernel_launcher.py:35: SettingWithCopyWarning: \n",
      "A value is trying to be set on a copy of a slice from a DataFrame.\n",
      "Try using .loc[row_indexer,col_indexer] = value instead\n",
      "\n",
      "See the caveats in the documentation: http://pandas.pydata.org/pandas-docs/stable/indexing.html#indexing-view-versus-copy\n"
     ]
    },
    {
     "data": {
      "text/plain": [
       "Text(0.5, 1.0, '60세 이상 인구 증가 추이')"
      ]
     },
     "execution_count": 2,
     "metadata": {},
     "output_type": "execute_result"
    },
    {
     "data": {
      "image/png": "[encoded data removed]",
      "text/plain": [
       "<Figure size 936x504 with 1 Axes>"
      ]
     },
     "metadata": {
      "needs_background": "light"
     },
     "output_type": "display_data"
    }
   ],
   "source": [
    "#  < 60세 이상 인구증가 추이 > \n",
    "\n",
    "# 1.데이터 불러오기\n",
    "age = pd.read_csv('주민등록인구집계현황.csv', sep=',', encoding='euc-kr')\n",
    " \n",
    "# 2.공백제거필요 -> '경기도    ' 이러한 부분이 있으므로\n",
    "age['행정구역명'] = age['행정구역명'].str.strip() \n",
    "\n",
    "# 3.경기도 총합 부분 추출(구역별로 나눠져 있는 부분을 제외시키기 위해)\n",
    "age1 = age[age.행정구역명 == '경기도']\n",
    "\n",
    "# 4.연도,월, 60세이상\n",
    "o_age = age1.iloc[:,[0,1,11,12,13,14,15]]\n",
    "\n",
    "# y_age = age1.iloc[:,[0,1,5,6,7,8]] # 유아, 청년층\n",
    "# m_age = age1.iloc[:,[0,1,9,10]] # 중년층\n",
    "\n",
    "# 5. 60세이상인구 합계\n",
    "o_age['60세이상'] = o_age.iloc[:,2:].sum(1)\n",
    "\n",
    "# 6. 년도별 60세이상인구 합계 추출\n",
    "# 2008~2019년이 12월인 이유: 1~12월 누적데이터 이므로 각 년도별 최신 데이터인 12월을 추출\n",
    "# 2020년이 5월인 이유: 2020년은 5월이 최신데이터\n",
    "\n",
    "o_age1 = o_age[o_age['월'] == 12]  # 2008 ~2019\n",
    "plus = pd.DataFrame([o_age[o_age['연도'] == 2020].iloc[0,:]])  # 2020(DataFrame형태 맞추기)\n",
    "\n",
    "# 7. 2008~2019년의 각 12월과 2020년 5월 데이터 병합\n",
    "o_age2 = pd.concat([o_age1, plus],ignore_index=True,axis=0)\n",
    "# o_age2.sort_values('연도')\n",
    "\n",
    "\n",
    "# 8. 년도별 정렬\n",
    "o_age3 = o_age2.iloc[:,[0,-1]].sort_values('연도')\n",
    "\n",
    "# 9. 그래프그리기 x,y 축 설정\n",
    "x_val = o_age3['연도']\n",
    "y_val = o_age3['60세이상']\n",
    " \n",
    "# 10. 그래프 그리기\n",
    "\n",
    "x_val = o_age3['연도']\n",
    "y_val = o_age3['60세이상']\n",
    "\n",
    "plt.rcParams['figure.figsize'] = [13, 7] # 그래프 크기(figure) 사이즈 조정\n",
    "plt.plot(x_val, y_val, marker = 'o')\n",
    "plt.xlabel('년도')\n",
    "plt.xticks(np.arange(2008, 2021, step=1))  # x축 전체 표시\n",
    "plt.ylabel('60세 이상 인구 수\\n( 단위 : 명 )')\n",
    "plt.title('60세 이상 인구 증가 추이')"
   ]
  },
  {
   "cell_type": "code",
   "execution_count": null,
   "metadata": {},
   "outputs": [],
   "source": [
    "############################################################################################################################"
   ]
  },
  {
   "cell_type": "markdown",
   "metadata": {},
   "source": [
    "# < 시군별 기관 수 >"
   ]
  },
  {
   "cell_type": "code",
   "execution_count": 10,
   "metadata": {},
   "outputs": [
    {
     "data": {
      "text/html": [
       "<div>\n",
       "<style scoped>\n",
       "    .dataframe tbody tr th:only-of-type {\n",
       "        vertical-align: middle;\n",
       "    }\n",
       "\n",
       "    .dataframe tbody tr th {\n",
       "        vertical-align: top;\n",
       "    }\n",
       "\n",
       "    .dataframe thead th {\n",
       "        text-align: right;\n",
       "    }\n",
       "</style>\n",
       "<table border=\"1\" class=\"dataframe\">\n",
       "  <thead>\n",
       "    <tr style=\"text-align: right;\">\n",
       "      <th></th>\n",
       "      <th>돌봄서비스기관</th>\n",
       "      <th>경로당</th>\n",
       "      <th>노인복지관</th>\n",
       "      <th>무한돌봄센터</th>\n",
       "      <th>재가노인복지시설</th>\n",
       "    </tr>\n",
       "    <tr>\n",
       "      <th>시군명</th>\n",
       "      <th></th>\n",
       "      <th></th>\n",
       "      <th></th>\n",
       "      <th></th>\n",
       "      <th></th>\n",
       "    </tr>\n",
       "  </thead>\n",
       "  <tbody>\n",
       "    <tr>\n",
       "      <th>가평군</th>\n",
       "      <td>7</td>\n",
       "      <td>164</td>\n",
       "      <td>1</td>\n",
       "      <td>1</td>\n",
       "      <td>1</td>\n",
       "    </tr>\n",
       "    <tr>\n",
       "      <th>고양시</th>\n",
       "      <td>18</td>\n",
       "      <td>553</td>\n",
       "      <td>3</td>\n",
       "      <td>1</td>\n",
       "      <td>2</td>\n",
       "    </tr>\n",
       "    <tr>\n",
       "      <th>과천시</th>\n",
       "      <td>2</td>\n",
       "      <td>27</td>\n",
       "      <td>1</td>\n",
       "      <td>1</td>\n",
       "      <td>1</td>\n",
       "    </tr>\n",
       "    <tr>\n",
       "      <th>광명시</th>\n",
       "      <td>7</td>\n",
       "      <td>116</td>\n",
       "      <td>1</td>\n",
       "      <td>1</td>\n",
       "      <td>1</td>\n",
       "    </tr>\n",
       "    <tr>\n",
       "      <th>광주시</th>\n",
       "      <td>16</td>\n",
       "      <td>276</td>\n",
       "      <td>1</td>\n",
       "      <td>1</td>\n",
       "      <td>1</td>\n",
       "    </tr>\n",
       "    <tr>\n",
       "      <th>구리시</th>\n",
       "      <td>12</td>\n",
       "      <td>126</td>\n",
       "      <td>0</td>\n",
       "      <td>1</td>\n",
       "      <td>1</td>\n",
       "    </tr>\n",
       "    <tr>\n",
       "      <th>군포시</th>\n",
       "      <td>14</td>\n",
       "      <td>114</td>\n",
       "      <td>2</td>\n",
       "      <td>1</td>\n",
       "      <td>1</td>\n",
       "    </tr>\n",
       "    <tr>\n",
       "      <th>김포시</th>\n",
       "      <td>13</td>\n",
       "      <td>319</td>\n",
       "      <td>2</td>\n",
       "      <td>1</td>\n",
       "      <td>1</td>\n",
       "    </tr>\n",
       "    <tr>\n",
       "      <th>남양주시</th>\n",
       "      <td>11</td>\n",
       "      <td>515</td>\n",
       "      <td>3</td>\n",
       "      <td>1</td>\n",
       "      <td>1</td>\n",
       "    </tr>\n",
       "    <tr>\n",
       "      <th>동두천시</th>\n",
       "      <td>8</td>\n",
       "      <td>109</td>\n",
       "      <td>1</td>\n",
       "      <td>1</td>\n",
       "      <td>1</td>\n",
       "    </tr>\n",
       "    <tr>\n",
       "      <th>부천시</th>\n",
       "      <td>10</td>\n",
       "      <td>365</td>\n",
       "      <td>3</td>\n",
       "      <td>1</td>\n",
       "      <td>1</td>\n",
       "    </tr>\n",
       "    <tr>\n",
       "      <th>성남시</th>\n",
       "      <td>10</td>\n",
       "      <td>382</td>\n",
       "      <td>6</td>\n",
       "      <td>1</td>\n",
       "      <td>3</td>\n",
       "    </tr>\n",
       "    <tr>\n",
       "      <th>수원시</th>\n",
       "      <td>18</td>\n",
       "      <td>488</td>\n",
       "      <td>6</td>\n",
       "      <td>1</td>\n",
       "      <td>5</td>\n",
       "    </tr>\n",
       "    <tr>\n",
       "      <th>시흥시</th>\n",
       "      <td>5</td>\n",
       "      <td>255</td>\n",
       "      <td>1</td>\n",
       "      <td>1</td>\n",
       "      <td>1</td>\n",
       "    </tr>\n",
       "    <tr>\n",
       "      <th>안산시</th>\n",
       "      <td>10</td>\n",
       "      <td>247</td>\n",
       "      <td>3</td>\n",
       "      <td>1</td>\n",
       "      <td>3</td>\n",
       "    </tr>\n",
       "    <tr>\n",
       "      <th>안성시</th>\n",
       "      <td>8</td>\n",
       "      <td>457</td>\n",
       "      <td>1</td>\n",
       "      <td>1</td>\n",
       "      <td>1</td>\n",
       "    </tr>\n",
       "    <tr>\n",
       "      <th>안양시</th>\n",
       "      <td>10</td>\n",
       "      <td>240</td>\n",
       "      <td>1</td>\n",
       "      <td>1</td>\n",
       "      <td>2</td>\n",
       "    </tr>\n",
       "    <tr>\n",
       "      <th>양주시</th>\n",
       "      <td>7</td>\n",
       "      <td>252</td>\n",
       "      <td>0</td>\n",
       "      <td>1</td>\n",
       "      <td>1</td>\n",
       "    </tr>\n",
       "    <tr>\n",
       "      <th>양평군</th>\n",
       "      <td>5</td>\n",
       "      <td>357</td>\n",
       "      <td>1</td>\n",
       "      <td>1</td>\n",
       "      <td>1</td>\n",
       "    </tr>\n",
       "    <tr>\n",
       "      <th>여주시</th>\n",
       "      <td>15</td>\n",
       "      <td>321</td>\n",
       "      <td>1</td>\n",
       "      <td>1</td>\n",
       "      <td>1</td>\n",
       "    </tr>\n",
       "    <tr>\n",
       "      <th>연천군</th>\n",
       "      <td>13</td>\n",
       "      <td>104</td>\n",
       "      <td>1</td>\n",
       "      <td>1</td>\n",
       "      <td>1</td>\n",
       "    </tr>\n",
       "    <tr>\n",
       "      <th>오산시</th>\n",
       "      <td>4</td>\n",
       "      <td>114</td>\n",
       "      <td>1</td>\n",
       "      <td>1</td>\n",
       "      <td>1</td>\n",
       "    </tr>\n",
       "    <tr>\n",
       "      <th>용인시</th>\n",
       "      <td>16</td>\n",
       "      <td>813</td>\n",
       "      <td>3</td>\n",
       "      <td>1</td>\n",
       "      <td>3</td>\n",
       "    </tr>\n",
       "    <tr>\n",
       "      <th>의왕시</th>\n",
       "      <td>10</td>\n",
       "      <td>108</td>\n",
       "      <td>2</td>\n",
       "      <td>1</td>\n",
       "      <td>1</td>\n",
       "    </tr>\n",
       "    <tr>\n",
       "      <th>의정부시</th>\n",
       "      <td>17</td>\n",
       "      <td>224</td>\n",
       "      <td>3</td>\n",
       "      <td>1</td>\n",
       "      <td>1</td>\n",
       "    </tr>\n",
       "    <tr>\n",
       "      <th>이천시</th>\n",
       "      <td>6</td>\n",
       "      <td>395</td>\n",
       "      <td>1</td>\n",
       "      <td>1</td>\n",
       "      <td>1</td>\n",
       "    </tr>\n",
       "    <tr>\n",
       "      <th>파주시</th>\n",
       "      <td>13</td>\n",
       "      <td>392</td>\n",
       "      <td>1</td>\n",
       "      <td>1</td>\n",
       "      <td>1</td>\n",
       "    </tr>\n",
       "    <tr>\n",
       "      <th>평택시</th>\n",
       "      <td>17</td>\n",
       "      <td>543</td>\n",
       "      <td>4</td>\n",
       "      <td>1</td>\n",
       "      <td>1</td>\n",
       "    </tr>\n",
       "    <tr>\n",
       "      <th>포천시</th>\n",
       "      <td>15</td>\n",
       "      <td>303</td>\n",
       "      <td>1</td>\n",
       "      <td>1</td>\n",
       "      <td>1</td>\n",
       "    </tr>\n",
       "    <tr>\n",
       "      <th>하남시</th>\n",
       "      <td>9</td>\n",
       "      <td>127</td>\n",
       "      <td>1</td>\n",
       "      <td>1</td>\n",
       "      <td>1</td>\n",
       "    </tr>\n",
       "    <tr>\n",
       "      <th>화성시</th>\n",
       "      <td>19</td>\n",
       "      <td>627</td>\n",
       "      <td>3</td>\n",
       "      <td>1</td>\n",
       "      <td>1</td>\n",
       "    </tr>\n",
       "  </tbody>\n",
       "</table>\n",
       "</div>"
      ],
      "text/plain": [
       "      돌봄서비스기관  경로당  노인복지관  무한돌봄센터  재가노인복지시설\n",
       "시군명                                        \n",
       "가평군         7  164      1       1         1\n",
       "고양시        18  553      3       1         2\n",
       "과천시         2   27      1       1         1\n",
       "광명시         7  116      1       1         1\n",
       "광주시        16  276      1       1         1\n",
       "구리시        12  126      0       1         1\n",
       "군포시        14  114      2       1         1\n",
       "김포시        13  319      2       1         1\n",
       "남양주시       11  515      3       1         1\n",
       "동두천시        8  109      1       1         1\n",
       "부천시        10  365      3       1         1\n",
       "성남시        10  382      6       1         3\n",
       "수원시        18  488      6       1         5\n",
       "시흥시         5  255      1       1         1\n",
       "안산시        10  247      3       1         3\n",
       "안성시         8  457      1       1         1\n",
       "안양시        10  240      1       1         2\n",
       "양주시         7  252      0       1         1\n",
       "양평군         5  357      1       1         1\n",
       "여주시        15  321      1       1         1\n",
       "연천군        13  104      1       1         1\n",
       "오산시         4  114      1       1         1\n",
       "용인시        16  813      3       1         3\n",
       "의왕시        10  108      2       1         1\n",
       "의정부시       17  224      3       1         1\n",
       "이천시         6  395      1       1         1\n",
       "파주시        13  392      1       1         1\n",
       "평택시        17  543      4       1         1\n",
       "포천시        15  303      1       1         1\n",
       "하남시         9  127      1       1         1\n",
       "화성시        19  627      3       1         1"
      ]
     },
     "execution_count": 10,
     "metadata": {},
     "output_type": "execute_result"
    }
   ],
   "source": [
    "# < 시군별 기관 수 >\n",
    "\n",
    "# 1. 데이터 불러오기\n",
    "jumin = pd.read_csv('주민등록인구집계현황.csv', sep=',', encoding='euc-kr')\n",
    "n_d = pd.read_csv('노인돌봄서비스수행기관현황.csv', sep=',', encoding='euc-kr')\n",
    "n_g = pd.read_csv('노인여가복지시설현황(경로당).csv', sep=',', encoding='euc-kr')\n",
    "n_b = pd.read_csv('노인여가복지시설현황(노인복지관).csv', sep=',', encoding='euc-kr')\n",
    "n_m = pd.read_csv('무한돌봄센터현황.csv', sep=',', encoding='euc-kr')\n",
    "n_j = pd.read_csv('재가노인복지시설현황.csv', sep=',', encoding='euc-kr')\n",
    "\n",
    "# 2. 시군구별 센터 수 파악\n",
    "n_d_count = n_d.groupby('시군명')['서비스구분명'].count() # 시군구별 노인돌봄기관 센터 수\n",
    "\n",
    "n_g_count = n_g.groupby('시군명')['시설명'].count() # 시군구별 경로당 수\n",
    "\n",
    "# n_b\n",
    "n_b_count = n_b.groupby('시군명')['시설명'].count() # 시군구별 노인복지관 수\n",
    "n_b_count\n",
    "\n",
    "# n_m.head()\n",
    "n_m_count = n_m.groupby('시군명')['센터명'].count() # 시군구별 무한돌봄센터 수\n",
    "n_m_count\n",
    "\n",
    "# n_j.head()\n",
    "n_j_count = n_j.groupby('시군구명')['시설명'].count() # 시군구별 재가노인복지시설 수\n",
    "n_j_count.index = n_j_count.index.str.split(' ').str[0]\n",
    "n_j_count = n_j_count.groupby('시군구명').count()\n",
    "# n_j_count\n",
    "\n",
    "# 3. 데이터 합치기\n",
    "md1 = pd.merge(n_d_count,n_g_count,how='outer', left_index=True,right_index=True)\n",
    "md2 = pd.merge(md1,n_b_count,how='outer', left_index=True,right_index=True)\n",
    "md3 = pd.merge(md2,n_m_count,how='outer', left_index=True,right_index=True)\n",
    "md4 = pd.merge(md3,n_j_count,how='outer', left_index=True,right_index=True)\n",
    "md4\n",
    "\n",
    "# 4. 컬럼명 변경 \n",
    "md5 = md4.rename(columns = {'서비스구분명':'돌봄서비스기관', '시설명_x':'경로당','시설명_y':'노인복지관',\n",
    "                            '센터명':'무한돌봄센터','시설명':'재가노인복지시설'})\n",
    "\n",
    "# 5. 결측치 처리\n",
    "md5\n",
    "md6 = md5.fillna(0)\n",
    "\n",
    "# 6. 시군별 노인복지시설 수(final) \n",
    "md6\n",
    "\n",
    "# 7. dtypes 통일\n",
    "md6['노인복지관'] = md6['노인복지관'].astype('int64')\n",
    "md6"
   ]
  },
  {
   "cell_type": "code",
   "execution_count": null,
   "metadata": {},
   "outputs": [],
   "source": [
    "############################################################################################################################"
   ]
  },
  {
   "cell_type": "markdown",
   "metadata": {},
   "source": [
    "# < 연도별 12월 인구수 >"
   ]
  },
  {
   "cell_type": "code",
   "execution_count": 4,
   "metadata": {
    "scrolled": true
   },
   "outputs": [
    {
     "name": "stdout",
     "output_type": "stream",
     "text": [
      "2016\n",
      "파일저장 완료\n",
      "2017\n",
      "파일저장 완료\n",
      "2018\n",
      "파일저장 완료\n",
      "2019\n",
      "파일저장 완료\n",
      "2020\n",
      "파일저장 완료\n",
      "2008\n",
      "파일저장 완료\n",
      "2009\n",
      "파일저장 완료\n",
      "2010\n",
      "파일저장 완료\n",
      "2011\n",
      "파일저장 완료\n",
      "2012\n",
      "파일저장 완료\n",
      "2013\n",
      "파일저장 완료\n",
      "2014\n",
      "파일저장 완료\n",
      "2015\n",
      "파일저장 완료\n"
     ]
    }
   ],
   "source": [
    "# < 연도별 12월 인구수 >\n",
    "# 누적인구이므로 각 연도별 12월을 추출함\n",
    "\n",
    "# 1. 경기도 인구수 csv파일 불러오기\n",
    "df = pd.read_csv('주민등록인구집계현황.csv', encoding='cp949') # encodimg='utf-8' 하면 에러가 나기 때문에 cp949를 해줘야 함\n",
    "df.head()\n",
    "\n",
    "# 2. 원하는 열만 가져와서 df 다시 만들기\n",
    "df_test = df[['연도','월','행정구역구분명','행정구역명','총 인구수','0~9세','10~19세','20~29세','30~39세','40~49세','50~59세','60~69세','70~79세','80~89세','90~99세',]]\n",
    "df_test\n",
    "\n",
    "# 3. df에서 행정구역 구분명을 통해 '도' 또는 '시군' 만 가져와서 인구수 확인\n",
    "df_do = df_test[ (df_test['행정구역구분명']=='도') | (df_test['행정구역구분명']=='시군') ]\n",
    "df_do\n",
    "\n",
    "# 4. 각 연도별 12월달의 인구수를 확인\n",
    "df_year = df_do[ (df_do['연도']==2020) & (df_do['월']== 5) ]\n",
    "df_year\n",
    "\n",
    "# 5. 연도를 set으로  만들어서 같은 값들을 제거하고 다시 list 형식으로 바꾸어 year에 저장\n",
    "year = list(set(df_do['연도']))\n",
    "\n",
    "# 6. 2020년은 5월 까지 밖에 없어서 for문과 if를 통해 excel 파일로 저장\n",
    "for i in year:\n",
    "    try:\n",
    "        print(i)\n",
    "        if i != 2020:\n",
    "            df_year = df_do[(df_do['연도']== i) & (df_do['월'] == 12)]\n",
    "        else :\n",
    "            df_year = df_do[(df_do['연도']== i) & (df_do['월'] == 5)]\n",
    "            \n",
    "        df_year.to_excel('result_{}.xlsx'.format(i), index=False, encoding='cp949')\n",
    "        print('파일저장 완료')\n",
    "    except:\n",
    "        print('실패')"
   ]
  },
  {
   "cell_type": "code",
   "execution_count": null,
   "metadata": {},
   "outputs": [],
   "source": [
    "############################################################################################################################"
   ]
  },
  {
   "cell_type": "markdown",
   "metadata": {},
   "source": [
    "# < 히트맵 >"
   ]
  },
  {
   "cell_type": "code",
   "execution_count": 12,
   "metadata": {},
   "outputs": [
    {
     "name": "stderr",
     "output_type": "stream",
     "text": [
      "C:\\Users\\4\\Anaconda3\\lib\\site-packages\\ipykernel_launcher.py:20: SettingWithCopyWarning: \n",
      "A value is trying to be set on a copy of a slice from a DataFrame.\n",
      "Try using .loc[row_indexer,col_indexer] = value instead\n",
      "\n",
      "See the caveats in the documentation: http://pandas.pydata.org/pandas-docs/stable/indexing.html#indexing-view-versus-copy\n",
      "C:\\Users\\4\\Anaconda3\\lib\\site-packages\\ipykernel_launcher.py:35: SettingWithCopyWarning: \n",
      "A value is trying to be set on a copy of a slice from a DataFrame.\n",
      "Try using .loc[row_indexer,col_indexer] = value instead\n",
      "\n",
      "See the caveats in the documentation: http://pandas.pydata.org/pandas-docs/stable/indexing.html#indexing-view-versus-copy\n"
     ]
    },
    {
     "data": {
      "image/png": "[encoded data removed]",
      "text/plain": [
       "<Figure size 720x720 with 2 Axes>"
      ]
     },
     "metadata": {
      "needs_background": "light"
     },
     "output_type": "display_data"
    }
   ],
   "source": [
    "# < 히트맵 >\n",
    "import pandas as pd\n",
    "import numpy as np\n",
    "import matplotlib.pyplot as plt\n",
    "from matplotlib import font_manager, rc # rc == run configure(configuration file)\n",
    "import os\n",
    "os.chdir('C:/Users/4/Bdata')\n",
    "%matplotlib inline\n",
    "\n",
    "# df_1 : 노인여가복지시설(경로당)\n",
    "\n",
    "# 1. 파일 읽기\n",
    "df_1 = pd.read_csv('노인여가복지시설현황(경로당).csv', encoding='cp949')\n",
    "df_1.head()\n",
    "\n",
    "# 2. '시군명'과 '이용회원수'만 가져오기\n",
    "df_new = df_1[['시군명', '이용회원수']]\n",
    "\n",
    "# 3. '기관수' 행을 추가하고 1로 설정\n",
    "df_new['기관수']=1\n",
    "\n",
    "# 4. '시군명'을 기준으로 합계 계산\n",
    "pivot_df = pd.pivot_table(df_new, index='시군명', aggfunc=sum)\n",
    "\n",
    "# 5. 파일 읽기 - 노인인구수 테이블 / df_3: 노인 인구수\n",
    "df_3 = pd.read_excel('result_노인인구수_2020.xlsx', encoding='cp949')\n",
    "df_3.head()\n",
    "df_3 = df_3.drop([0])\n",
    "\n",
    "# 6.'행정구역명'과 '70세'이상인 열만 가져오기\n",
    "pivot_df2 = df_3[['행정구역명' ,'70~79세', '80~89세', '90~99세']]\n",
    "\n",
    "# 7. 행을 기준으로 합계 구하고 열 추가\n",
    "# 70+이상의 노인 인구수의 합계 구하기\n",
    "pivot_df2['Total'] = pivot_df2.sum(axis=1)\n",
    "pivot_df2 = pivot_df2[['행정구역명' , 'Total']]\n",
    "\n",
    "# 8. pivot_df2(인구수)의 'Total' 열을 pivot_df(시설수와 이용자수)에 복사하기\n",
    "# 'Total' 열의 값을 리스트로 저장\n",
    "totalli = pivot_df2.Total.tolist()\n",
    "pivot_df['인구수'] = totalli\n",
    "\n",
    "# 9. 비율로 나누기 (인구수/기관수)\n",
    "# '인구수'열을 '기관수'열로 나눈 리스트를 pivot_df에 저장\n",
    "divDF = pivot_df['인구수'] / pivot_df['기관수']\n",
    "pivot_df['인구수/기관수'] = list(divDF)\n",
    "\n",
    "# 10. max값으로 나눠주기\n",
    "weight_col = pivot_df[['기관수', '이용회원수', '인구수','인구수/기관수']].max()\n",
    "finalDF= pivot_df[['기관수', '이용회원수', '인구수', '인구수/기관수']] / weight_col\n",
    "finalDF\n",
    "\n",
    "# 11. HEATMAP 만들기\n",
    "import seaborn as sns\n",
    "%matplotlib inline \n",
    "from matplotlib import font_manager, rc # rc == run configure(configuration file)\n",
    "\n",
    "font_name = font_manager.FontProperties(fname=\"c:/Windows/Fonts/malgun.ttf\").get_name()\n",
    "rc('font', family=font_name)\n",
    "\n",
    "plt.figure(figsize = (10, 10))\n",
    "\n",
    "# cmap : matplotlib colormap @ https://goo.gl/YWpBES\n",
    "sns.heatmap(finalDF.sort_values(by='인구수/기관수', ascending=False), \n",
    "            annot=True, fmt='f', linewidths=.5, cmap='Spectral_r')\n",
    "\n",
    "plt.title('노인 인구수 대비 복지 시설')\n",
    "plt.show()"
   ]
  },
  {
   "cell_type": "code",
   "execution_count": null,
   "metadata": {},
   "outputs": [],
   "source": [
    "############################################################################################################################"
   ]
  },
  {
   "cell_type": "markdown",
   "metadata": {},
   "source": [
    "# <텍스트 마이닝 >"
   ]
  },
  {
   "cell_type": "code",
   "execution_count": 3,
   "metadata": {},
   "outputs": [],
   "source": [
    "# <텍스트 마이닝 >\n",
    "import requests # from urllib.request import urlopen\n",
    "from bs4 import BeautifulSoup\n",
    "import pandas as pd\n",
    "from datetime import datetime\n",
    "import time # 코드 쉬는 시간\n",
    "import re # 정규표현식 : regular expression\n",
    "import numpy as np\n",
    "import nltk\n"
   ]
  },
  {
   "cell_type": "code",
   "execution_count": 4,
   "metadata": {},
   "outputs": [],
   "source": [
    "# 1. 크롤링을 위한 함수 생성\n",
    "def main_crawling(query, start_date, end_date, sort_type, max_page):\n",
    " \n",
    "# 여백으로 작성시\n",
    "    if query == '':\n",
    "        query = '보람튜브'\n",
    "    if len(start_date) != 10:\n",
    "        start_date = '2019.07.28'\n",
    "    if len(end_date) != 10:\n",
    "        end_date = '2019.07.29'\n",
    "    if sort_type not in ['0', '1', '2']:\n",
    "        sort_type = '0'\n",
    "#     if max_page == '':\n",
    "#         max_page = 5\n",
    "\n",
    "\n",
    "    # 각 기사들의 데이터를 종류별로 나눠담을 리스트를 생성합니다. (추후 DataFrame으로 모을 예정)\n",
    "    titles = []\n",
    "    dates = []\n",
    "    articles = []\n",
    "    article_urls = []\n",
    "    press_companies = []\n",
    "\n",
    "    # 주어진 일자를 쿼리에 맞는 형태로 변경해줍니다.\n",
    "    start_date = start_date.replace(\".\", \"\")\n",
    "    end_date = end_date.replace(\".\", \"\")\n",
    "\n",
    "    # 지정한 기간 내 원하는 페이지 수만큼의 기사를 크롤링합니다.\n",
    "    current_call = 1\n",
    "    last_call = (max_page - 1) * 10 + 1 # max_page이 5일 경우 41에 해당 \n",
    "\n",
    "\n",
    "    while current_call <= last_call:\n",
    "\n",
    "        print('\\n{}번째 기사글부터 크롤링을 시작합니다.'.format(current_call))\n",
    "\n",
    "        url = \"https://search.naver.com/search.naver?where=news&query=\" + query \\\n",
    "              + \"&sort=\" + sort_type \\\n",
    "              + \"&nso=so%3Ar%2Cp%3Afrom\" + start_date \\\n",
    "              + \"to\" + end_date \\\n",
    "              + \"%2Ca%3A&start=\" + str(current_call)\n",
    "\n",
    "        urls_list = []\n",
    "        try: # 네이버 뉴스 검색결과 페이지 자체에 접근이 불가능할 경우 에러가 발생할 수 있습니다.\n",
    "            web = requests.get(url).content\n",
    "            source = BeautifulSoup(web, 'html.parser')\n",
    "\n",
    "            for urls in source.find_all('a', {'class' : \"_sp_each_url\"}):\n",
    "                if urls[\"href\"].startswith(\"https://news.naver.com\"):\n",
    "                    urls_list.append(urls[\"href\"])\n",
    "        except:\n",
    "            print('해당 뉴스 검색 페이지의 네이버 뉴스 링크를 모으는 중 에러가 발생했습니다. : ', url)\n",
    "        \n",
    "        if urls_list != []:\n",
    "            for url in urls_list:\n",
    "                try: # 특정 뉴스 기사글 하나를 크롤링하는 중 에러가 발생할 수 있습니다.ㄴ\n",
    "                    web_news = requests.get(url).content\n",
    "                    source_news = BeautifulSoup(web_news, 'html.parser')\n",
    "\n",
    "                    title = source_news.find('h3', {'id' : 'articleTitle'}).get_text()\n",
    "                    print('Processing article : {}'.format(title))\n",
    "\n",
    "                    date = source_news.find('span', {'class' : 't11'}).get_text()\n",
    "\n",
    "                    article = source_news.find('div', {'id' : 'articleBodyContents'}).get_text()\n",
    "                    article = article.replace(\"\\n\", \"\")\n",
    "                    article = article.replace(\"// flash 오류를 우회하기 위한 함수 추가function _flash_removeCallback() {}\", \"\")\n",
    "                    article = article.replace(\"동영상 뉴스       \", \"\")\n",
    "                    article = article.strip()\n",
    "\n",
    "                    press_company = source_news.find('address', {'class' : 'address_cp nclicks(fot.presscr)'}).find('a').get_text()\n",
    "\n",
    "                    titles.append(title)\n",
    "                    dates.append(date)\n",
    "                    articles.append(article)\n",
    "                    press_companies.append(press_company)\n",
    "                    article_urls.append(url)\n",
    "                except:\n",
    "                    print('\\n*** {}번부터 {}번까지의 기사글을 크롤링하는 중 문제가 발생했습니다.'.format(current_call, current_call+9))\n",
    "                    print('*** 다음 링크의 뉴스를 크롤링하는 중 에러가 발생했습니다 : {}'.format(url))\n",
    "        else:\n",
    "            pass\n",
    "\n",
    "        time.sleep(5)\n",
    "        current_call += 10\n",
    "            \n",
    "            \n",
    "    article_df = pd.DataFrame({'Title':titles, \n",
    "                               'Date':dates, \n",
    "                               'Article':articles, \n",
    "                               'URL':article_urls, \n",
    "                               'PressCompany':press_companies})\n",
    "\n",
    "    article_df.to_excel('result_{}.xlsx'.format(datetime.now().strftime('%y%m%d_%H%M')), index=False, encoding='utf-8')\n",
    "    \n",
    "    print('\\n크롤링이 성공적으로 완료되었습니다!')\n",
    "    print('\\n크롤링 결과를 다음 파일에 저장하였습니다 : {}'.format(datetime.now().strftime('%y%m%d_%H%M')))"
   ]
  },
  {
   "cell_type": "code",
   "execution_count": 5,
   "metadata": {},
   "outputs": [
    {
     "name": "stdout",
     "output_type": "stream",
     "text": [
      "\n",
      "1번째 기사글부터 크롤링을 시작합니다.\n",
      "Processing article : 경기도, 시·군에 노인의료복지시설 인권지킴이 운영계획 수립 요청\n",
      "Processing article : 경기도, 시·군에 노인의료복지시설 인권지킴이 운영 요청\n",
      "Processing article : '탁구장→교회→노인복지센터'…끊어지지 않는 수도권 연쇄감염(종합)\n",
      "Processing article : 고양 노인복지관 ‘부족’, 장기요양시설 ‘과다’\n",
      "Processing article : [기고]더 나은 노인복지 위해 무얼 해야 할까\n",
      "Processing article : 경기북부 사회복지시설 부족…국비 지원 절실\n",
      "Processing article : 감사원 “국도·지방도 터널, 화재 필수방재시설 부족”\n",
      "Processing article : 감사원 \"국도·지방도 터널, 화재 필수방재시설 부족\"\n",
      "\n",
      "11번째 기사글부터 크롤링을 시작합니다.\n",
      "Processing article : 5명 중 1명이 70세 이상인 日… 노인 복지시설은 줄도산\n",
      "Processing article : 경기북부 곳곳서 지자체 간 기피시설 갈등…'해법 없나'\n",
      "Processing article : ‘사회적 혁신’ 이끌 청년들 “고령화·저출산·노인문제 실제로 접해보니…”\n",
      "Processing article : [내가 만드는 복지국가] 사회복지시설 관리, 왜 이러나?\n",
      "Processing article : 한화투자증권, 노인 요양시설서 사회공헌활동 실시\n",
      "Processing article : 한화투자증권, 노인 요양시설서 봉사활동 실시\n",
      "\n",
      "21번째 기사글부터 크롤링을 시작합니다.\n",
      "Processing article : \"연탄도, 분유도, 화장지도 부족\"…연말 불우이웃돕기 찬바람(종합)\n",
      "Processing article : 의정부시, 가능동에 '흥선노인복지센터' 개관\n",
      "\n",
      "크롤링이 성공적으로 완료되었습니다!\n",
      "\n",
      "크롤링 결과를 다음 파일에 저장하였습니다 : 200723_1032\n"
     ]
    }
   ],
   "source": [
    "# 2. 크롤링 실행 확인\n",
    "query = '경기 노인 복지 시설 부족'\n",
    "start_date = '2010.01.01'\n",
    "end_date = '2020.07.17'\n",
    "sort_type = '0'\n",
    "max_page = '3'\n",
    "\n",
    "if start_date > end_date:\n",
    "    print('\\n시작 날짜는 종료 날짜보다 이후로 지정하실 수 없습니다. 다시 실행해주세요!')\n",
    "elif max_page == '':\n",
    "    max_page = 5\n",
    "    print('\\n원하시는 페이지 수가 입력되지 않았습니다. 5 페이지까지만 크롤링을 진행합니다.')\n",
    "    main_crawling(query, start_date, end_date, sort_type, max_page)\n",
    "else:\n",
    "    max_page = int(max_page)\n",
    "    main_crawling(query, start_date, end_date, sort_type, max_page)"
   ]
  },
  {
   "cell_type": "code",
   "execution_count": 6,
   "metadata": {},
   "outputs": [
    {
     "data": {
      "text/html": [
       "<div>\n",
       "<style scoped>\n",
       "    .dataframe tbody tr th:only-of-type {\n",
       "        vertical-align: middle;\n",
       "    }\n",
       "\n",
       "    .dataframe tbody tr th {\n",
       "        vertical-align: top;\n",
       "    }\n",
       "\n",
       "    .dataframe thead th {\n",
       "        text-align: right;\n",
       "    }\n",
       "</style>\n",
       "<table border=\"1\" class=\"dataframe\">\n",
       "  <thead>\n",
       "    <tr style=\"text-align: right;\">\n",
       "      <th></th>\n",
       "      <th>Title</th>\n",
       "      <th>Date</th>\n",
       "      <th>Article</th>\n",
       "      <th>URL</th>\n",
       "      <th>PressCompany</th>\n",
       "    </tr>\n",
       "  </thead>\n",
       "  <tbody>\n",
       "    <tr>\n",
       "      <th>0</th>\n",
       "      <td>경기도, 시·군에 노인의료복지시설 인권지킴이 운영계획 수립 요청</td>\n",
       "      <td>2020.06.25. 오전 9:07</td>\n",
       "      <td>활동비 지원·대상시설 50%까지 확대 운영 등경기도가 노인의료복지시설 입소자에 대한...</td>\n",
       "      <td>https://news.naver.com/main/read.nhn?mode=LSD&amp;...</td>\n",
       "      <td>뉴스1</td>\n",
       "    </tr>\n",
       "    <tr>\n",
       "      <th>1</th>\n",
       "      <td>경기도, 시·군에 노인의료복지시설 인권지킴이 운영 요청</td>\n",
       "      <td>2020.06.25. 오전 9:28</td>\n",
       "      <td>경기도가 노인의료복지시설 입소자에 대한 노인학대 예방 등 노인인권보호를 위해 도내 ...</td>\n",
       "      <td>https://news.naver.com/main/read.nhn?mode=LSD&amp;...</td>\n",
       "      <td>머니S</td>\n",
       "    </tr>\n",
       "    <tr>\n",
       "      <th>2</th>\n",
       "      <td>'탁구장→교회→노인복지센터'…끊어지지 않는 수도권 연쇄감염(종합)</td>\n",
       "      <td>2020.06.09. 오후 3:38</td>\n",
       "      <td>양천구 탁구장 확진자 총 51명…리치웨이는 68명\"연쇄감염 고리 끊으려면 방역수칙 ...</td>\n",
       "      <td>https://news.naver.com/main/read.nhn?mode=LSD&amp;...</td>\n",
       "      <td>edaily</td>\n",
       "    </tr>\n",
       "    <tr>\n",
       "      <th>3</th>\n",
       "      <td>고양 노인복지관 ‘부족’, 장기요양시설 ‘과다’</td>\n",
       "      <td>2020.01.08. 오전 1:05</td>\n",
       "      <td>고양시청 전경. 사진제공=고양시  [고양=파이낸셜뉴스 강근주 기자] 고양 노인인구 ...</td>\n",
       "      <td>https://news.naver.com/main/read.nhn?mode=LSD&amp;...</td>\n",
       "      <td>financial news</td>\n",
       "    </tr>\n",
       "    <tr>\n",
       "      <th>4</th>\n",
       "      <td>[기고]더 나은 노인복지 위해 무얼 해야 할까</td>\n",
       "      <td>2020.03.27. 오후 6:32</td>\n",
       "      <td>[나송 전주비전대학교 사회복지경영과 겸임교수]4·15 총선을 맞아 복지국가 실현을 ...</td>\n",
       "      <td>https://news.naver.com/main/read.nhn?mode=LSD&amp;...</td>\n",
       "      <td>노컷뉴스</td>\n",
       "    </tr>\n",
       "  </tbody>\n",
       "</table>\n",
       "</div>"
      ],
      "text/plain": [
       "                                  Title                 Date  \\\n",
       "0   경기도, 시·군에 노인의료복지시설 인권지킴이 운영계획 수립 요청  2020.06.25. 오전 9:07   \n",
       "1        경기도, 시·군에 노인의료복지시설 인권지킴이 운영 요청  2020.06.25. 오전 9:28   \n",
       "2  '탁구장→교회→노인복지센터'…끊어지지 않는 수도권 연쇄감염(종합)  2020.06.09. 오후 3:38   \n",
       "3            고양 노인복지관 ‘부족’, 장기요양시설 ‘과다’  2020.01.08. 오전 1:05   \n",
       "4             [기고]더 나은 노인복지 위해 무얼 해야 할까  2020.03.27. 오후 6:32   \n",
       "\n",
       "                                             Article  \\\n",
       "0  활동비 지원·대상시설 50%까지 확대 운영 등경기도가 노인의료복지시설 입소자에 대한...   \n",
       "1  경기도가 노인의료복지시설 입소자에 대한 노인학대 예방 등 노인인권보호를 위해 도내 ...   \n",
       "2  양천구 탁구장 확진자 총 51명…리치웨이는 68명\"연쇄감염 고리 끊으려면 방역수칙 ...   \n",
       "3  고양시청 전경. 사진제공=고양시  [고양=파이낸셜뉴스 강근주 기자] 고양 노인인구 ...   \n",
       "4  [나송 전주비전대학교 사회복지경영과 겸임교수]4·15 총선을 맞아 복지국가 실현을 ...   \n",
       "\n",
       "                                                 URL    PressCompany  \n",
       "0  https://news.naver.com/main/read.nhn?mode=LSD&...             뉴스1  \n",
       "1  https://news.naver.com/main/read.nhn?mode=LSD&...             머니S  \n",
       "2  https://news.naver.com/main/read.nhn?mode=LSD&...          edaily  \n",
       "3  https://news.naver.com/main/read.nhn?mode=LSD&...  financial news  \n",
       "4  https://news.naver.com/main/read.nhn?mode=LSD&...            노컷뉴스  "
      ]
     },
     "execution_count": 6,
     "metadata": {},
     "output_type": "execute_result"
    }
   ],
   "source": [
    "# 3. 크롤링 데이터 가져오기\n",
    "import nltk\n",
    "\n",
    "df = pd.read_excel('result_200722_1442.xlsx', encoding='utf-8')\n",
    "df.head()"
   ]
  },
  {
   "cell_type": "code",
   "execution_count": 7,
   "metadata": {},
   "outputs": [
    {
     "data": {
      "text/plain": [
       "'활동비 지원·대상시설 50%까지 확대 운영 등경기도가 노인의료복지시설 입소자에 대한 노인학대 예방 등 노인인권보호를 위해 도내 31개 시·군에 자체 노인의료복지시설 인권지킴이 운영계획을 수립하도록 요청했다./경기도청사 © 뉴스1(경기=뉴스1) 진현권 기자 = 경기도는 노인의료복지시설 입소자에 대한 노인학대 예방 등 노인인권보호를 위해 도내 31개 시·군에 자체 노인의료복지시설 인권지킴이 운영계획을 수립하도록 요청했다고 25일 밝혔다.인권지킴이는 2014년 보건복지부 노인학대방지 종합대책으로 시설 입소 노인들의 인권보호 강화와 학대 예방을 위해 도입돼 지난해 기준 경기도 전체 노인의료복지시설 1705곳의 31%가량인 530곳에서 운영했다.시군에서는 주민들 중 인권지킴이를 선발해 관련 교육을 실시한 뒤 시설을 지정해 활동하게 하고 있다. 인권지킴이는 시설장, 종사자 등에 대한 인권모니터링, 시설 설비나 서비스에서 인권취약·침해부분에 대해 시정권고요청 등을 담당한다. 그러나 일부 시군에서는 인권지킴이를 두지 않는 등 인권지킴이에 대한 인식부족을 나타내는 사례가 발생했다. 또 활동비를 지급하는 부천·포천·성남 등 3개 시군의 인권지킴이 활동이 무보수(명예직) 운영 시군에 비해 실효성이 높아 활동비 예산 지원이 필요한 것으로 나타났다. 이에 도는 31개 시·군에 Δ인권지킴이에 대한 활동비 지원 Δ대상시설 50%까지 확대 운영 Δ지역 노인보호전문기관과 연계한 인권지킴이 교육이수 등 시군 여건에 따른 자체 인권지킴이 운영계획을 수립해 적극 운영할 것을 요청했다. 도는 각 시군의 협조를 얻어 인권지킴이 운영을 독려하고 이에 대한 이행여부를 계속해 점검해 나갈 예정이다. 조태훈 도 노인복지과장은 “노인 인권지킴이 활동이 시설 노인의 인권 의식 제고와 시설환경 개선에 효과적인 것으로 파악돼 지속적인 양적·질적 확대가 필요하다”며 “더 많은 시군에서 인권지킴이를 활용할 수 있도록 지원규정 마련을 관계부처에 건의하겠다”고 말했다.jhk102010@news1.kr▶ 네이버 메인에서 '"
      ]
     },
     "execution_count": 7,
     "metadata": {},
     "output_type": "execute_result"
    }
   ],
   "source": [
    "# 시리즈.tolist()\n",
    "articles = df['Article'].tolist()\n",
    "\n",
    "len(articles)\n",
    "articles[:2]\n",
    "\n",
    "#str 만들기\n",
    "articles = ''.join(articles) # 리스트의 아이템들을 특정한 문자를 기준으로 이어 붙이기\n",
    "articles[:1000]"
   ]
  },
  {
   "cell_type": "code",
   "execution_count": 8,
   "metadata": {},
   "outputs": [
    {
     "ename": "ModuleNotFoundError",
     "evalue": "No module named 'konlpy'",
     "output_type": "error",
     "traceback": [
      "\u001b[1;31m---------------------------------------------------------------------------\u001b[0m",
      "\u001b[1;31mModuleNotFoundError\u001b[0m                       Traceback (most recent call last)",
      "\u001b[1;32m<ipython-input-8-256767113b39>\u001b[0m in \u001b[0;36m<module>\u001b[1;34m\u001b[0m\n\u001b[0;32m      1\u001b[0m \u001b[1;31m# 4. 품사태깅\u001b[0m\u001b[1;33m\u001b[0m\u001b[1;33m\u001b[0m\u001b[1;33m\u001b[0m\u001b[0m\n\u001b[1;32m----> 2\u001b[1;33m \u001b[1;32mfrom\u001b[0m \u001b[0mkonlpy\u001b[0m\u001b[1;33m.\u001b[0m\u001b[0mtag\u001b[0m \u001b[1;32mimport\u001b[0m \u001b[0mTwitter\u001b[0m\u001b[1;33m\u001b[0m\u001b[1;33m\u001b[0m\u001b[0m\n\u001b[0m\u001b[0;32m      3\u001b[0m \u001b[1;33m\u001b[0m\u001b[0m\n\u001b[0;32m      4\u001b[0m \u001b[0mtwitter\u001b[0m \u001b[1;33m=\u001b[0m \u001b[0mTwitter\u001b[0m\u001b[1;33m(\u001b[0m\u001b[1;33m)\u001b[0m\u001b[1;33m\u001b[0m\u001b[1;33m\u001b[0m\u001b[0m\n\u001b[0;32m      5\u001b[0m \u001b[0mraw_pos_tagged\u001b[0m \u001b[1;33m=\u001b[0m \u001b[0mtwitter\u001b[0m\u001b[1;33m.\u001b[0m\u001b[0mpos\u001b[0m\u001b[1;33m(\u001b[0m\u001b[0marticles\u001b[0m\u001b[1;33m,\u001b[0m \u001b[0mnorm\u001b[0m\u001b[1;33m=\u001b[0m\u001b[1;32mTrue\u001b[0m\u001b[1;33m,\u001b[0m \u001b[0mstem\u001b[0m\u001b[1;33m=\u001b[0m\u001b[1;32mTrue\u001b[0m\u001b[1;33m)\u001b[0m \u001b[1;31m# POS Tagging\u001b[0m\u001b[1;33m\u001b[0m\u001b[1;33m\u001b[0m\u001b[0m\n",
      "\u001b[1;31mModuleNotFoundError\u001b[0m: No module named 'konlpy'"
     ]
    }
   ],
   "source": [
    "# 4. 품사태깅\n",
    "from konlpy.tag import Twitter\n",
    "\n",
    "twitter = Twitter()\n",
    "raw_pos_tagged = twitter.pos(articles, norm=True, stem=True) # POS Tagging\n",
    "raw_pos_tagged"
   ]
  },
  {
   "cell_type": "code",
   "execution_count": null,
   "metadata": {},
   "outputs": [],
   "source": [
    "# 유의미한 의미를 갖고 있지 않은 단어를 제외할 수 있습니다.\n",
    "del_list = ['따르다', '양주시', '경기', '서울', '경기도', '서울시', '사진', '지역', '증권', '지난해', '연탄','하다', '대한', '뉴스', '밝히다', '지킴', '활동', '입소', '회복', '지난', '받다','늘다', '위탁','기준' '하다', '기자', '위해', '수탁', '연합뉴스', '터널', '있다', '되다', '이다', '돼다', '않다', '그렇다', '아니다', '이렇다', '그렇다', '어떻다', '백군기'] \n",
    "\n",
    "word_cleaned = []\n",
    "for word in raw_pos_tagged: #  ('서울', 'Noun'),\n",
    "    if not word[1] in [\"Josa\", \"Eomi\", \"Punctuation\", \"Foreign\"]: # Foreign == ”, “ 와 같이 제외되어야할 항목들\n",
    "        if (len(word[0]) != 1) & (word[0] not in del_list): # 한 글자로 이뤄진 단어들을 제외 & 원치 않는 단어들을 제외\n",
    "            word_cleaned.append(word[0])\n",
    "        \n",
    "word_cleaned"
   ]
  },
  {
   "cell_type": "code",
   "execution_count": null,
   "metadata": {},
   "outputs": [],
   "source": [
    "# 리스트에 담긴 단어들을 대상으로 갯수를 세어,\n",
    "# 단어를 key로 등장 횟수를 value로 하는 dict를 만듭니다.\n",
    "\n",
    "from collections import Counter\n",
    "result = Counter(word_cleaned)\n",
    "word_dic = dict(result)\n",
    "word_dic"
   ]
  },
  {
   "cell_type": "code",
   "execution_count": null,
   "metadata": {},
   "outputs": [],
   "source": [
    "# 5. 워드 클라우드\n",
    "word_dic.items()\n",
    "word_dic\n",
    "\n",
    "# lambda 함수를 활용하여,\n",
    "# 앞서 만든 dict를 item 단위(tuple)로 꺼내어, tuple(x)의 value(x[1])를 기준으로 하여 내림차순(reverse=True) 정렬합니다.\n",
    "sorted_word_dic = sorted(word_dic.items(), key=lambda x:x[1], reverse=True)\n",
    "sorted_word_dic\n",
    "\n",
    "# 내림차순 정렬된 단어 중 상위 50개를 살펴보면 다음과 같습니다.\n",
    "\n",
    "# ('보람', 517),\n",
    "for word, count in sorted_word_dic[:23]:\n",
    "    print(\"{0}({1})\".format(word, count), end=\" \")"
   ]
  },
  {
   "cell_type": "code",
   "execution_count": null,
   "metadata": {},
   "outputs": [],
   "source": [
    "from wordcloud import WordCloud\n",
    "import matplotlib.pyplot as plt\n",
    "from PIL import Image # 만약 \"No module named 'PIL'\" 에러가 발생하면 [ pip install Pillow==5.4.1 ] 로 라이브러리를 설치해줍니다.\n",
    "import numpy as np\n",
    "import matplotlib.pyplot as plt\n",
    "%matplotlib inline\n",
    "# !pip install wordcloud 아래 wordcloud 실행이 안될시 주석을 풀고 실행해주세요"
   ]
  },
  {
   "cell_type": "code",
   "execution_count": null,
   "metadata": {},
   "outputs": [],
   "source": [
    "# WordCloud 객체를 생성합니다.\n",
    "# 아래 보이는 코드의 font_path 에 해당하는 부분이 워드클라우드의 폰트에 적용됩니다. (대체로 고딕 계열 폰트가 이쁘게 나옵니다)\n",
    "# 만약 다른 폰트를 적용하려면, C > Windows > Fonts 폴더에 원하시는 폰트 파일(.ttf)을 넣은 후 아래 코드에서 font 이름을 수정해줍니다.\n",
    "\n",
    "# word_cloud = WordCloud().generate(text) : dict 가 아닌 줄글 텍스트 원문으로부터 워드클라우드를 만들 수 있습니다.\n",
    "word_cloud = WordCloud(font_path=\"C:/Windows/Fonts/malgun.ttf\", # font_path=\"C:/Windows/Fonts/NanumSquareB.ttf\"\n",
    "                       width=2000, height=1000, # 이 부분을 수정하시면 실제 워드클라우드의 크기가 바뀝니다 (해상도가 바뀝니다)\n",
    "                       prefer_horizontal= 1.0, # 이 부분의 주석을 해제하시면 단어들이 가로로만 그려지게 됩니다. (0~1)\n",
    "                       background_color='white')"
   ]
  },
  {
   "cell_type": "code",
   "execution_count": null,
   "metadata": {},
   "outputs": [],
   "source": [
    "word_cloud.generate_from_frequencies(word_dic) # Generate wordcloud from word \"frequency\" data.\n",
    "\n",
    "word_cloud = WordCloud(font_path=\"C:/Windows/Fonts/malgun.ttf\", # font_path=\"C:/Windows/Fonts/NanumSquareB.ttf\"\n",
    "                       max_words=20, # max words\n",
    "                       width=2000, height=1000, \n",
    "                       background_color='white').generate_from_frequencies(word_dic)"
   ]
  },
  {
   "cell_type": "code",
   "execution_count": null,
   "metadata": {},
   "outputs": [],
   "source": [
    "from wordcloud import ImageColorGenerator # Image 로부터 Color 를 생성(Generate)해내는 객체입니다.\n",
    "\n",
    "youtube_coloring = np.array(Image.open(\"images.jpg\"))\n",
    "image_colors = ImageColorGenerator(youtube_coloring)\n",
    "\n",
    "word_cloud = WordCloud(font_path=\"C:/Windows/Fonts/malgun.ttf\", # font_path=\"C:/Windows/Fonts/NanumSquareB.ttf\"\n",
    "                       max_words=70,\n",
    "                       width=2000, height=1000,  \n",
    "                       mask=youtube_coloring, \n",
    "                       background_color='white').generate_from_frequencies(word_dic)\n",
    "\n",
    "plt.figure(figsize=(15,15))\n",
    "# plt.imshow(word_cloud.recolor(color_func=image_colors), interpolation='bilinear') # 다시(re) 색칠하기\n",
    "plt.imshow(word_cloud.recolor(colormap='summer'), interpolation='bilinear') # Matplotlib colormap 활용 (http://j.mp/32UXOQ6)\n",
    "plt.axis(\"off\")\n",
    "plt.tight_layout(pad=0)\n",
    "plt.show()"
   ]
  },
  {
   "cell_type": "code",
   "execution_count": null,
   "metadata": {},
   "outputs": [],
   "source": [
    "############################################################################################################################"
   ]
  },
  {
   "cell_type": "markdown",
   "metadata": {},
   "source": [
    "# < 복지시설 시각화 >"
   ]
  },
  {
   "cell_type": "code",
   "execution_count": null,
   "metadata": {},
   "outputs": [],
   "source": [
    "import numpy as np\n",
    "import pandas as pd\n",
    "import seaborn as sns\n",
    "import matplotlib.pyplot as plt\n",
    "from matplotlib import font_manager, rc# rc == run configure(configuration file)\n",
    "import googlemaps\n",
    "import json\n",
    "import folium\n",
    "\n",
    "# 경기도 2020 노인 인구수 & 노인비율 데이터 @ 경기도 데이터드림\n",
    "# 원본 데이터 및 전처리 작업을 위한 파이썬 코드 @ folder named [ Original data source & data preprocessing (5대범죄 & 인구수) ] \n",
    "\n",
    "old = pd.read_excel('경기도_노인인구수(통계청).xlsx', encoding='utf-8') \n",
    "#dataframe name = old\n",
    "old.head(32)"
   ]
  },
  {
   "cell_type": "code",
   "execution_count": null,
   "metadata": {},
   "outputs": [],
   "source": [
    "area_old = pd.pivot_table(old, index='행정구역', aggfunc=np.sum)\n",
    "area_old.head()"
   ]
  },
  {
   "cell_type": "code",
   "execution_count": null,
   "metadata": {},
   "outputs": [],
   "source": [
    "#노인인구 파일-행정구역에 경도와 위도 추가하기\n",
    "\n",
    "gmaps = googlemaps.Client(key=\"발급받은 개인키 입력하세요\") # -- input your key --\n",
    "\n",
    "lat = []\n",
    "lng = []\n",
    "\n",
    "for name in old['행정구역']:\n",
    "    # gmaps.reverse_geocode((longitude 값, latitude 값), language=\"ko\") == 경도 & 위도 값으로 주소값 가져오기\n",
    "    # gmaps.geocode('한글 주소', language=\"ko\") 로 위도/경도, 우편번호까지 알 수 있음\n",
    "    tmpMap = gmaps.geocode(name) # ex) 성남시\n",
    "    tmpLoc = tmpMap[0].get('geometry') # 배열 형태( [~] )로 들어오기 때문에 [0]으로 호출\n",
    "    lat.append(tmpLoc['location']['lat']) # dict(tmpLoc)의 데이터는 dict['key값'] 로 value 호출\n",
    "    lng.append(tmpLoc['location']['lng'])\n",
    "    \n",
    "old['위도'] = lat\n",
    "old['경도'] = lng\n",
    "\n",
    "old.head()"
   ]
  },
  {
   "cell_type": "code",
   "execution_count": null,
   "metadata": {},
   "outputs": [],
   "source": [
    "#columns(열) 순서 변경하기\n",
    "old = old.reindex(columns=['행정구역','노인인구수','전체인구','노인인구비율','경도','위도'])\n",
    "old\n",
    "\n",
    "# # 새롭게 행 이름을 짓기\n",
    "# sigu_df.rename(columns = {'인구수(명)':'노인인구수',\n",
    "#                         '비율(%)':'노인비율'}, inplace=True) # inplace 옵션 == 덮어쓰기 여부\n",
    "# sigu_df.head()"
   ]
  },
  {
   "cell_type": "code",
   "execution_count": null,
   "metadata": {},
   "outputs": [],
   "source": [
    "# 인구수 기준으로 오름차순 정렬하기\n",
    "\n",
    "# '노인인구수'을 기준으로 정렬할 때?\n",
    "old.sort_values(by='노인인구수', ascending=False, inplace=True) # ascending=False : 내림차순, inplace=True : 덮어쓰기\n",
    "old"
   ]
  },
  {
   "cell_type": "code",
   "execution_count": null,
   "metadata": {},
   "outputs": [],
   "source": [
    "plt.figure(figsize=(12,8)) #size 조절 \n",
    "plt.xticks(rotation = 50000) #x축 조절 \n",
    "sns.barplot(data = old.sort_values(by='노인인구수', ascending=False), \n",
    "            x = \"행정구역\", \n",
    "            y = \"노인인구수\" ) \n",
    "plt.show()"
   ]
  },
  {
   "cell_type": "code",
   "execution_count": null,
   "metadata": {},
   "outputs": [],
   "source": [
    "#한글데이터 시각화\n",
    "\n",
    "# jupyter notebook 내에 figure를 보여주기\n",
    "%matplotlib inline \n",
    "\n",
    "# matplotlib의 한글문제를 해결\n",
    "font_name = font_manager.FontProperties(fname=\"c:/Windows/Fonts/malgun.ttf\").get_name()\n",
    "# font_name\n",
    "rc('font', family=font_name)\n"
   ]
  },
  {
   "cell_type": "markdown",
   "metadata": {},
   "source": [
    "# <지도 시각화>"
   ]
  },
  {
   "cell_type": "code",
   "execution_count": null,
   "metadata": {},
   "outputs": [],
   "source": [
    "#!pip install folium==0.5.0"
   ]
  },
  {
   "cell_type": "code",
   "execution_count": null,
   "metadata": {},
   "outputs": [],
   "source": [
    "# import warnings\n",
    "# warnings.simplefilter(action = \"ignore\", category = FutureWarning)\n",
    "\n",
    "geo_path = 'Gyeonggi_municipalities-geo.json'\n",
    "#경기도 행정구역만 정리된 json파일 불러오기\n",
    "geo_str = json.load(open(geo_path, encoding='utf-8'))\n",
    "\n",
    "geo_str['features'][0]"
   ]
  },
  {
   "cell_type": "code",
   "execution_count": null,
   "metadata": {},
   "outputs": [],
   "source": [
    "from pyprnt import prnt\n",
    "prnt(geo_str)\n",
    "#파이썬의 dictionary"
   ]
  },
  {
   "cell_type": "code",
   "execution_count": null,
   "metadata": {},
   "outputs": [],
   "source": [
    "\n",
    "\n",
    "# tiles : 지도 타입 (default type or \"Stamen Terrain\" or \"Stamen Toner\")\n",
    "# location : 초기 지도 center 위치 -> 경기도 좌표\n",
    "\n",
    "map = folium.Map(location=[37.5969947,126.5354523], zoom_start=8) \n",
    "map"
   ]
  },
  {
   "cell_type": "code",
   "execution_count": null,
   "metadata": {},
   "outputs": [],
   "source": [
    "#folium 라이브러리를 이용해서 지도 위에 경기도 행정구역별 경계를 표시한다.\n",
    "\n",
    "map = folium.Map(location=[37.5969947,126.5354523],\n",
    "                 zoom_start=8)\n",
    "\n",
    "with open('Gyeonggi_municipalities-geo.json',mode='rt',encoding='utf-8') as f:\n",
    "    geo = json.loads(f.read())\n",
    "    f.close()\n",
    "\n",
    "folium.GeoJson(\n",
    "    geo,\n",
    "    name='Gyeonggi_municipalities'\n",
    ").add_to(map)\n",
    "\n",
    "\n",
    "map.save('1_경기도행정구역시각화.html') #결과화면 저장\n",
    "map\n"
   ]
  },
  {
   "cell_type": "code",
   "execution_count": null,
   "metadata": {},
   "outputs": [],
   "source": [
    "geo_str"
   ]
  },
  {
   "cell_type": "code",
   "execution_count": null,
   "metadata": {},
   "outputs": [],
   "source": [
    "# 경기도 행정구역별 노인 인구수 시각화\n",
    "# Choropleth map : 정의 @ https://goo.gl/yrTRHU, folium 공식문서 @ https://goo.gl/5UgneX\n",
    "# Another available library for Choropleth map : Altair @ https://altair-viz.github.io/gallery/choropleth.html\n",
    "\n",
    "\n",
    "map = folium.Map(location=[37.5969947,126.5354523], zoom_start=10)\n",
    "\n",
    "map.choropleth(\n",
    "    geo_data = geo_str, # 경기도 행정구역별 polygon drawing\n",
    "    data = old, # 시각화의 대상이 될 데이터\n",
    "    columns = ['행정구역','노인인구수'], # 1) df의 index 칼럼을 가져와 인식하고\n",
    "    fill_color = 'PuRd', #PuRd, YlGnBu <- color brewer (http://colorbrewer2.org/) : ‘BuGn’, ‘BuPu’, ‘GnBu’, ‘OrRd’, ‘PuBu’, ‘PuBuGn’, ‘PuRd’, ‘RdPu’, ‘YlGn’, ‘YlGnBu’, ‘YlOrBr’, and ‘YlOrRd’\n",
    "    key_on = 'feature.id') # GeoJSON 규약을 따름, json 파일(지도 데이터)의 \"feature\" type의 \"id\" 에 매칭된다\n",
    "\n",
    "# key_on: Variable in the GeoJSON file to bind the data to. \n",
    "# Must always start with 'feature' and be in JavaScript objection notation. \n",
    "# Ex: 'feature.id' or 'feature.properties.statename'.\n",
    "\n",
    "map.save('2_경기도행정구역_노인인구수 비교 시각화.html') \n",
    "map"
   ]
  },
  {
   "cell_type": "markdown",
   "metadata": {},
   "source": [
    "# < 노인복지시설 시각화 >"
   ]
  },
  {
   "cell_type": "code",
   "execution_count": null,
   "metadata": {},
   "outputs": [],
   "source": [
    "wf = pd.read_csv('노인의료복지시설현황2.csv') #wf = welfare facilities\n",
    "wf.head()"
   ]
  },
  {
   "cell_type": "code",
   "execution_count": null,
   "metadata": {},
   "outputs": [],
   "source": [
    "wf.columns"
   ]
  },
  {
   "cell_type": "code",
   "execution_count": null,
   "metadata": {},
   "outputs": [],
   "source": [
    "#칼럼 이름 변경\n",
    "\n",
    "wf.rename(columns = {'WGS84위도' : '위도'}, inplace = True)\n",
    "wf.rename(columns = {'WGS84경도' : '경도'}, inplace = True)\n",
    "wf.rename(columns = {'시군구명' : '행정구역'}, inplace = True)\n",
    "\n",
    "wf.columns"
   ]
  },
  {
   "cell_type": "code",
   "execution_count": null,
   "metadata": {},
   "outputs": [],
   "source": [
    "# jupyter notebook 내에 figure를 보여주기\n",
    "%matplotlib inline \n",
    "\n",
    "# matplotlib의 한글문제를 해결\n",
    "font_name = font_manager.FontProperties(fname=\"c:/Windows/Fonts/malgun.ttf\").get_name()\n",
    "# font_name\n",
    "rc('font', family=font_name)\n",
    "\n",
    "## Mac OS\n",
    "# rc('font', family=\"AppleGothic\")"
   ]
  },
  {
   "cell_type": "code",
   "execution_count": null,
   "metadata": {},
   "outputs": [],
   "source": [
    "#각 시군별로 몇 개 있는지 파악하기\n",
    "freq_area = wf['행정구역'].value_counts()\n",
    "freq_area"
   ]
  },
  {
   "cell_type": "code",
   "execution_count": null,
   "metadata": {},
   "outputs": [],
   "source": [
    "wf2 = wf.filter(['행정구역', '시설명', '지번 주소', '위도', '경도'])\n",
    "wf2"
   ]
  },
  {
   "cell_type": "code",
   "execution_count": null,
   "metadata": {},
   "outputs": [],
   "source": [
    "df2.index[3]"
   ]
  },
  {
   "cell_type": "code",
   "execution_count": null,
   "metadata": {},
   "outputs": [],
   "source": [
    "wf2.loc[3, '위도']"
   ]
  },
  {
   "cell_type": "markdown",
   "metadata": {},
   "source": [
    "\n",
    "## Marker를 사용하여 복지시설 위치 표시\n",
    "#### ● 참고하면 좋을 사이트 : https://dailyheumsi.tistory.com/85#minimap \n",
    "\n",
    "#### 데이터 양이 많아서 마커를 찍는데 시간이 오래걸림  그래서 렉 문제로 주석처리(주석 풀어서 실행하면 돌아감) ↓"
   ]
  },
  {
   "cell_type": "code",
   "execution_count": 1,
   "metadata": {},
   "outputs": [],
   "source": [
    "# m2 = folium.Map(\n",
    "#   location=[37.5969947,126.5354523],\n",
    "#   zoom_start=8\n",
    "# )\n",
    "\n",
    "# for i in wf2.index:\n",
    "#     # 행 우선 접근 방식으로 값 추출하기\n",
    "#     name = wf2.loc[i, '행정구역']+' : '+wf2.loc[i, '시설명']\n",
    "#     lat = wf2.loc[i, '위도']\n",
    "#     lng = wf2.loc[i, '경도']\n",
    "    \n",
    "#     # 추출한 정보를 지도에 표시\n",
    "#     marker = folium.Marker([lat,lng], popup=name)\n",
    "#     marker.add_to(m2)\n",
    "\n",
    "# m2.save('3_노인복지시설 위치 마커 표시.html')\n",
    "# m2\n",
    "\n",
    "# #한글 깨지는 문제는 html 파일로 저장하면 문제 해결_"
   ]
  },
  {
   "cell_type": "markdown",
   "metadata": {},
   "source": [
    "### MarkerCluster 사용하기\n",
    "\n",
    "#### MarkerCluster를 사용하는 이유는 마커의 수가 많기 때문에 한 눈에 알아보기 어려움\n",
    "#### -> 가까이 있는 마커들끼리 묶어줘서 간단하게 시각화 작업이 가능함."
   ]
  },
  {
   "cell_type": "code",
   "execution_count": null,
   "metadata": {},
   "outputs": [],
   "source": [
    "from folium.plugins import MarkerCluster\n",
    "\n",
    "m3 = folium.Map(location=[37.5969947,126.5354523], zoom_start=8)\n",
    "\n",
    "marker_cluster = MarkerCluster().add_to(m3)\n",
    "\n",
    "for i in wf2.index:\n",
    "    # 행 우선 접근 방식으로 값 추출하기\n",
    "    name = wf2.loc[i, '행정구역']+' : '+wf2.loc[i, '시설명']\n",
    "    lat = wf2.loc[i, '위도']\n",
    "    lng = wf2.loc[i, '경도']\n",
    "    \n",
    "    # 추출한 정보를 지도에 표시\n",
    "    marker = folium.Marker([lat,lng], popup=name)\n",
    "    marker.add_to(marker_cluster)\n",
    "\n",
    "m3.save('4_노인복지시설 MarkerCluster.html')\n",
    "m3\n",
    "\n",
    "#한글 깨지는 문제는 html 파일로 저장하면 문제 해결_"
   ]
  },
  {
   "cell_type": "code",
   "execution_count": null,
   "metadata": {},
   "outputs": [],
   "source": [
    "############################################################################################################################"
   ]
  },
  {
   "cell_type": "markdown",
   "metadata": {},
   "source": [
    "# < 미래 인구수 차트 >"
   ]
  },
  {
   "cell_type": "code",
   "execution_count": null,
   "metadata": {},
   "outputs": [],
   "source": [
    "import numpy as np\n",
    "import pandas as pd\n",
    "import seaborn as sns\n",
    "import matplotlib.pyplot as plt\n",
    "from matplotlib import font_manager, rc # rc == run configure(configuration file)"
   ]
  },
  {
   "cell_type": "code",
   "execution_count": null,
   "metadata": {},
   "outputs": [],
   "source": [
    "# 파일 읽기\n",
    "df = pd.read_excel('장래 인구수.xlsx', encoding='cp949') \n",
    "del df['시나리오별(1)']"
   ]
  },
  {
   "cell_type": "code",
   "execution_count": null,
   "metadata": {},
   "outputs": [],
   "source": [
    "# NaN 값 삭제 후 '경기도' 확인\n",
    "df.dropna()"
   ]
  },
  {
   "cell_type": "code",
   "execution_count": null,
   "metadata": {},
   "outputs": [],
   "source": [
    "# 경기도 데이터만 가져오기\n",
    "df = df[171:190]\n",
    "df"
   ]
  },
  {
   "cell_type": "code",
   "execution_count": null,
   "metadata": {},
   "outputs": [],
   "source": [
    "# 시도별 열 삭제\n",
    "del df[\"시도별(1)\"]"
   ]
  },
  {
   "cell_type": "code",
   "execution_count": null,
   "metadata": {},
   "outputs": [],
   "source": [
    "# 열과 행 스위치\n",
    "df = np.transpose(df)\n",
    "df"
   ]
  },
  {
   "cell_type": "code",
   "execution_count": null,
   "metadata": {},
   "outputs": [],
   "source": [
    "# 65+ 인구수만 가져오기\n",
    "df = df[179]\n",
    "df"
   ]
  },
  {
   "cell_type": "code",
   "execution_count": null,
   "metadata": {},
   "outputs": [],
   "source": [
    "# 첫 행 삭제\n",
    "df = df.drop(['인구구조, 부양비별(1)'])"
   ]
  },
  {
   "cell_type": "code",
   "execution_count": null,
   "metadata": {},
   "outputs": [],
   "source": [
    "# 문자열 칼럼을 숫자로 바꾸기\n",
    "df_179 = pd.to_numeric(df)"
   ]
  },
  {
   "cell_type": "code",
   "execution_count": null,
   "metadata": {},
   "outputs": [],
   "source": [
    "# 데이터 프레임 이름 변경\n",
    "df_179.name = '65+ 인구수'\n",
    "df_179"
   ]
  },
  {
   "cell_type": "code",
   "execution_count": null,
   "metadata": {},
   "outputs": [],
   "source": [
    "# 차트 만들기\n",
    "plt.rcParams[\"font.family\"] = 'Malgun Gothic'\n",
    "plt.rcParams[\"font.size\"] = 16\n",
    "plt.rcParams[\"figure.figsize\"] = (20, 10)"
   ]
  },
  {
   "cell_type": "code",
   "execution_count": null,
   "metadata": {},
   "outputs": [],
   "source": [
    "df_179.plot(color='#ff0000')\n",
    "plt.grid()\n",
    "plt.legend()\n",
    "plt.title(\"< 장래 인구수 >\")\n",
    "plt.xlabel(\"년도\")\n",
    "plt.ylabel(\"인구수\")\n",
    "plt.show()"
   ]
  },
  {
   "cell_type": "code",
   "execution_count": null,
   "metadata": {},
   "outputs": [],
   "source": [
    "# Plotly 내장 데이터 활용 -> 인구수 추이 관찰\n",
    "pip install plotly # plotly 설치"
   ]
  },
  {
   "cell_type": "code",
   "execution_count": null,
   "metadata": {},
   "outputs": [],
   "source": [
    "# 라이브러리 임포트\n",
    "# plotly 내장 데이터 조회 api를 사용하여 한국의 기대수명 관련 샘플 데이터를 가져오기\n",
    "# https://pypi.org/project/chart-studio/#description\n",
    "pip install chart-studio"
   ]
  },
  {
   "cell_type": "code",
   "execution_count": null,
   "metadata": {},
   "outputs": [],
   "source": [
    "# 라이브러리 임포트\n",
    "import chart_studio\n",
    "chart_studio.tools.set_credentials_file(username='cherryy', api_key='p2T19zq5NrjdoI0jSHIg')\n",
    "import chart_studio.plotly as py\n",
    "import plotly.express as px\n"
   ]
  },
  {
   "cell_type": "code",
   "execution_count": null,
   "metadata": {},
   "outputs": [],
   "source": [
    "# plotly 내장 데이터 조회 api를 사용하여 한국의 기대수명 관련 샘플 데이터를 가져오기\n",
    "df2 = px.data.gapminder().query(\"country=='Korea, Rep.'\")\n",
    "fig = px.line(df2, x=\"year\", y=\"lifeExp\", title='Life expectancy in Korea, Rep.')\n",
    "py.iplot(fig)"
   ]
  },
  {
   "cell_type": "code",
   "execution_count": null,
   "metadata": {},
   "outputs": [],
   "source": [
    "###########################################################################################################################"
   ]
  },
  {
   "cell_type": "markdown",
   "metadata": {},
   "source": [
    "# < 노인시설 지도화 >"
   ]
  },
  {
   "cell_type": "code",
   "execution_count": null,
   "metadata": {},
   "outputs": [],
   "source": [
    "# Plotly를 활용한 HeatMap \n",
    "import pandas as pd\n",
    "import plotly.express as px"
   ]
  },
  {
   "cell_type": "code",
   "execution_count": null,
   "metadata": {},
   "outputs": [],
   "source": [
    "# df_2 : 노인여가복지시설(경로당)\n",
    "# 파일 읽기, \n",
    "df_2 = pd.read_csv('노인여가복지시설현황(경로당).csv', encoding='cp949',\n",
    "                   index_col=\"설치일자\",parse_dates=True)\n",
    "df_2.head()"
   ]
  },
  {
   "cell_type": "code",
   "execution_count": null,
   "metadata": {},
   "outputs": [],
   "source": [
    "# 2. mapbox로 지도 그리기\n",
    "\n",
    "fig = px.scatter_mapbox(df_2, lat=\"WGS84위도\", lon=\"WGS84경도\",\n",
    "                  hover_name=\"시설명\", hover_data=[\"도로명 주소\", \"지번 주소\"],\n",
    "                  color_discrete_sequence=['limegreen'], size_max=15, zoom=7, height=400)\n",
    "\n",
    "fig.update_layout(mapbox_style=\"open-street-map\")\n",
    "\n",
    "fig.show()\n"
   ]
  },
  {
   "cell_type": "code",
   "execution_count": null,
   "metadata": {},
   "outputs": [],
   "source": [
    "# HeatMap 표현\n",
    "# 지도에 기관 위치를 찍고, 기관별 이용회원수를 z축(컬러)으로 표현.\n",
    "\n",
    "fig = px.density_mapbox(df_2, lat=\"WGS84위도\", lon=\"WGS84경도\", z =\"이용회원수\",\n",
    "                 radius=10,  center=dict(lat=37.57, lon=127.11),\n",
    "                   zoom=7.7, height=700)\n",
    "\n",
    "fig.update_layout(mapbox_style=\"open-street-map\")\n",
    "\n",
    "fig.show()"
   ]
  },
  {
   "cell_type": "code",
   "execution_count": null,
   "metadata": {},
   "outputs": [],
   "source": [
    "############################################################################################################################"
   ]
  }
 ],
 "metadata": {
  "kernelspec": {
   "display_name": "Python 3",
   "language": "python",
   "name": "python3"
  },
  "language_info": {
   "codemirror_mode": {
    "name": "ipython",
    "version": 3
   },
   "file_extension": ".py",
   "mimetype": "text/x-python",
   "name": "python",
   "nbconvert_exporter": "python",
   "pygments_lexer": "ipython3",
   "version": "3.7.3"
  }
 },
 "nbformat": 4,
 "nbformat_minor": 2
}
