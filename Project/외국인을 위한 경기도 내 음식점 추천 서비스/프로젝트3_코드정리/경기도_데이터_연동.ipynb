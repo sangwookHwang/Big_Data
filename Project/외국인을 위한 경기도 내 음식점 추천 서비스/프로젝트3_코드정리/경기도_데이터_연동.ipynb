{
 "cells": [
  {
   "cell_type": "code",
   "execution_count": 1,
   "metadata": {},
   "outputs": [],
   "source": [
    "import pandas as pd\n",
    "import numpy as np\n",
    "import matplotlib.pyplot as plt\n",
    "import math\n",
    "import folium\n",
    "import warnings\n",
    "import json\n",
    "warnings.simplefilter(action = \"ignore\", category = FutureWarning)\n",
    "from pyprnt import prnt\n",
    "from haversine import haversine\n",
    "from folium.plugins import MarkerCluster\n",
    "from folium import plugins\n",
    "\n",
    "from selenium import webdriver\n",
    "from selenium.webdriver.common.by import By\n",
    "from selenium.webdriver.common.keys import Keys\n",
    "import time\n"
   ]
  },
  {
   "cell_type": "code",
   "execution_count": 2,
   "metadata": {},
   "outputs": [],
   "source": [
    "best_food_df = pd.read_excel(\"맛집현황.xlsx\")\n",
    "good_food_df = pd.read_excel('모범음식점현황.xlsx')"
   ]
  },
  {
   "cell_type": "code",
   "execution_count": 3,
   "metadata": {},
   "outputs": [],
   "source": [
    "best_food_df.rename(columns ={'음식점명' : '식당', 'Unnamed: 4' : '최후의음식', 'WGS84위도' : '위도',  'WGS84경도' : '경도'},inplace=True)\n",
    "good_food_df.rename(columns ={'업소명' : '식당', '최후의 음식' : '최후의음식', 'WGS84위도' : '위도',  'WGS84경도' : '경도'},inplace=True)\n",
    "best_food_df = best_food_df[['시군명','소재지지번주소','식당','최후의음식','위도','경도']]\n",
    "good_food_df = good_food_df[['시군명','소재지지번주소','식당','최후의음식','위도','경도']]\n",
    "final_food_df = pd.concat([best_food_df,good_food_df])\n",
    "final_food_df.drop_duplicates(inplace=True)"
   ]
  },
  {
   "cell_type": "code",
   "execution_count": 4,
   "metadata": {},
   "outputs": [],
   "source": [
    "final_food_df_en = pd.read_csv(\"final_food_en.csv\")\n",
    "final_food_df['식당_영문명'] = final_food_df_en['식당_영문명']\n",
    "final_food_df=  final_food_df[['시군명','소재지지번주소','식당','식당_영문명','최후의음식','위도','경도']]"
   ]
  },
  {
   "cell_type": "code",
   "execution_count": 23,
   "metadata": {},
   "outputs": [
    {
     "data": {
      "text/html": [
       "<div>\n",
       "<style scoped>\n",
       "    .dataframe tbody tr th:only-of-type {\n",
       "        vertical-align: middle;\n",
       "    }\n",
       "\n",
       "    .dataframe tbody tr th {\n",
       "        vertical-align: top;\n",
       "    }\n",
       "\n",
       "    .dataframe thead th {\n",
       "        text-align: right;\n",
       "    }\n",
       "</style>\n",
       "<table border=\"1\" class=\"dataframe\">\n",
       "  <thead>\n",
       "    <tr style=\"text-align: right;\">\n",
       "      <th></th>\n",
       "      <th>시군명</th>\n",
       "      <th>소재지지번주소</th>\n",
       "      <th>식당</th>\n",
       "      <th>식당_영문명</th>\n",
       "      <th>최후의음식</th>\n",
       "      <th>위도</th>\n",
       "      <th>경도</th>\n",
       "    </tr>\n",
       "  </thead>\n",
       "  <tbody>\n",
       "    <tr>\n",
       "      <th>3</th>\n",
       "      <td>고양시</td>\n",
       "      <td>경기도 고양시 일산서구 대화동 2101번지</td>\n",
       "      <td>정통중화요리 남궁</td>\n",
       "      <td>igyeongsughalmeonieumsigjeom</td>\n",
       "      <td>짬뽕</td>\n",
       "      <td>37.682042</td>\n",
       "      <td>126.753550</td>\n",
       "    </tr>\n",
       "    <tr>\n",
       "      <th>24</th>\n",
       "      <td>고양시</td>\n",
       "      <td>경기도 고양시 일산동구 정발산동 1262-1번지</td>\n",
       "      <td>뿅의 전설</td>\n",
       "      <td>ppyong-ui jeonseol</td>\n",
       "      <td>짬뽕</td>\n",
       "      <td>37.674687</td>\n",
       "      <td>126.783488</td>\n",
       "    </tr>\n",
       "    <tr>\n",
       "      <th>586</th>\n",
       "      <td>남양주시</td>\n",
       "      <td>경기도 남양주시 와부읍 팔당리 428번지</td>\n",
       "      <td>강릉짬뽕순두부</td>\n",
       "      <td>gangleungjjamppongsundubu</td>\n",
       "      <td>짬뽕</td>\n",
       "      <td>37.550321</td>\n",
       "      <td>127.238387</td>\n",
       "    </tr>\n",
       "    <tr>\n",
       "      <th>925</th>\n",
       "      <td>성남시</td>\n",
       "      <td>경기도 성남시 수정구 태평동 3564번지</td>\n",
       "      <td>바다해물짬뽕</td>\n",
       "      <td>badahaemuljjamppong</td>\n",
       "      <td>짬뽕</td>\n",
       "      <td>37.443914</td>\n",
       "      <td>127.134316</td>\n",
       "    </tr>\n",
       "    <tr>\n",
       "      <th>988</th>\n",
       "      <td>성남시</td>\n",
       "      <td>경기도 성남시 수정구 금토동 272-33번지</td>\n",
       "      <td>홍루원</td>\n",
       "      <td>hongluwon</td>\n",
       "      <td>짬뽕</td>\n",
       "      <td>37.409503</td>\n",
       "      <td>127.097716</td>\n",
       "    </tr>\n",
       "  </tbody>\n",
       "</table>\n",
       "</div>"
      ],
      "text/plain": [
       "      시군명                     소재지지번주소         식당  \\\n",
       "3     고양시     경기도 고양시 일산서구 대화동 2101번지  정통중화요리 남궁   \n",
       "24    고양시  경기도 고양시 일산동구 정발산동 1262-1번지      뿅의 전설   \n",
       "586  남양주시      경기도 남양주시 와부읍 팔당리 428번지    강릉짬뽕순두부   \n",
       "925   성남시      경기도 성남시 수정구 태평동 3564번지     바다해물짬뽕   \n",
       "988   성남시    경기도 성남시 수정구 금토동 272-33번지        홍루원   \n",
       "\n",
       "                           식당_영문명 최후의음식         위도          경도  \n",
       "3    igyeongsughalmeonieumsigjeom    짬뽕  37.682042  126.753550  \n",
       "24             ppyong-ui jeonseol    짬뽕  37.674687  126.783488  \n",
       "586     gangleungjjamppongsundubu    짬뽕  37.550321  127.238387  \n",
       "925           badahaemuljjamppong    짬뽕  37.443914  127.134316  \n",
       "988                     hongluwon    짬뽕  37.409503  127.097716  "
      ]
     },
     "execution_count": 23,
     "metadata": {},
     "output_type": "execute_result"
    }
   ],
   "source": [
    "final_food_df[final_food_df['최후의음식']=='짬뽕']"
   ]
  },
  {
   "cell_type": "code",
   "execution_count": 18,
   "metadata": {},
   "outputs": [],
   "source": [
    "x = [37.400253, 127.104999]\n",
    "\n",
    "label = '짬뽕'"
   ]
  },
  {
   "cell_type": "code",
   "execution_count": 19,
   "metadata": {},
   "outputs": [],
   "source": [
    "# label과 맞는 음식점 고르기\n",
    "def match_food(df,label):  \n",
    "    df = df[df['최후의음식']==label]\n",
    "\n",
    "    return df\n",
    "\n",
    "# label의 맞는 음식점에서 가까운 10개 고르기\n",
    "\n",
    "def match_top10(x,df):\n",
    "    dist = []\n",
    "    match_food_df = match_food(df,label)\n",
    "    for i in range(len(match_food_df)):\n",
    "        dist.append(haversine(tuple(x),tuple(match_food_df[['위도','경도']].iloc[i])))\n",
    "\n",
    "    match_food_df['dist'] = dist\n",
    "    return  match_food_df.sort_values('dist',ascending=True).head(10)\n",
    "   "
   ]
  },
  {
   "cell_type": "code",
   "execution_count": 20,
   "metadata": {},
   "outputs": [
    {
     "name": "stderr",
     "output_type": "stream",
     "text": [
      "C:\\Users\\leejy\\Anaconda3_\\lib\\site-packages\\ipykernel_launcher.py:15: SettingWithCopyWarning: \n",
      "A value is trying to be set on a copy of a slice from a DataFrame.\n",
      "Try using .loc[row_indexer,col_indexer] = value instead\n",
      "\n",
      "See the caveats in the documentation: http://pandas.pydata.org/pandas-docs/stable/indexing.html#indexing-view-versus-copy\n",
      "  from ipykernel import kernelapp as app\n",
      "C:\\Users\\leejy\\Anaconda3_\\lib\\site-packages\\pandas\\core\\frame.py:3940: SettingWithCopyWarning: \n",
      "A value is trying to be set on a copy of a slice from a DataFrame\n",
      "\n",
      "See the caveats in the documentation: http://pandas.pydata.org/pandas-docs/stable/indexing.html#indexing-view-versus-copy\n",
      "  errors=errors)\n"
     ]
    }
   ],
   "source": [
    "match_top = match_top10(x,final_food_df)\n",
    "match_food = match_food(final_food_df,label)\n",
    "# 중복되는 행 제거\n",
    "for i in match_top.index:\n",
    "    match_food.drop(i, axis='index', inplace=True)"
   ]
  },
  {
   "cell_type": "code",
   "execution_count": 7,
   "metadata": {},
   "outputs": [],
   "source": [
    "## 인덱스 번호가 다를 경우 drop시키는 것\n",
    "# for i in match_top.index:\n",
    "#     name = match_top.loc[i]['식당']\n",
    "#     loc = (match_top.loc[i]['위도'], match_top.loc[i]['경도']) \n",
    "#     index = match_food[match_food['식당'] == name].index[0]\n",
    "    \n",
    "#     if (match_food.loc[index]['위도'] == loc[0]) & (match_food.loc[index]['경도'] == loc[1]):\n",
    "#         match_food.drop(index, axis = 'index', inplace=True)"
   ]
  },
  {
   "cell_type": "code",
   "execution_count": 16,
   "metadata": {},
   "outputs": [],
   "source": [
    "star_result = []\n",
    "score_url= 'https://www.google.com/maps'\n",
    "def get_star(target_res):\n",
    "    driver = webdriver.Chrome(executable_path='(driver) chromedriver.exe')\n",
    "    driver.get(score_url)\n",
    "    \n",
    "\n",
    "    for i in target_res.index:\n",
    "        driver.find_element_by_id('searchboxinput').clear()\n",
    "        keyword = target_res.loc[i]['소재지지번주소'] +' ' + target_res.loc[i]['식당']\n",
    "        driver.find_element_by_id('searchboxinput').send_keys(keyword)\n",
    "        xpath = \"//*[@id='searchbox-searchbutton']\"\n",
    "        driver.find_element_by_xpath(xpath).click()\n",
    "       # driver.find_element_by_id('searchbox-searchbutton').click()\n",
    "        time.sleep(5)\n",
    "\n",
    "        star = driver.find_element_by_class_name('section-star-display')\n",
    "        star_result.append(star)\n",
    "        \n",
    "        #print('{} \\n ★ {}점'.format(final_food_df.iloc[i]['식당'], star_text))\n",
    "    driver.close()\n",
    "    driver.quit()\n",
    "    return star_result"
   ]
  },
  {
   "cell_type": "code",
   "execution_count": 13,
   "metadata": {},
   "outputs": [
    {
     "data": {
      "text/plain": [
       "'경기도 성남시 분당구 삼평동 '"
      ]
     },
     "execution_count": 13,
     "metadata": {},
     "output_type": "execute_result"
    }
   ],
   "source": [
    "match_top['소재지지번주소'].iloc[1][0:-5]"
   ]
  },
  {
   "cell_type": "code",
   "execution_count": 17,
   "metadata": {
    "scrolled": true
   },
   "outputs": [
    {
     "ename": "WebDriverException",
     "evalue": "Message: unknown error: unknown sessionId\n  (Session info: chrome=84.0.4147.125)\n  (Driver info: chromedriver=2.37.544315 (730aa6a5fdba159ac9f4c1e8cbc59bf1b5ce12b7),platform=Windows NT 10.0.18363 x86_64)\n",
     "output_type": "error",
     "traceback": [
      "\u001b[1;31m---------------------------------------------------------------------------\u001b[0m",
      "\u001b[1;31mWebDriverException\u001b[0m                        Traceback (most recent call last)",
      "\u001b[1;32m<ipython-input-17-e1ab55198dc1>\u001b[0m in \u001b[0;36m<module>\u001b[1;34m\u001b[0m\n\u001b[1;32m----> 1\u001b[1;33m \u001b[0mmatch_top\u001b[0m\u001b[1;33m[\u001b[0m\u001b[1;34m'star'\u001b[0m\u001b[1;33m]\u001b[0m \u001b[1;33m=\u001b[0m \u001b[0mget_star\u001b[0m\u001b[1;33m(\u001b[0m\u001b[0mmatch_top\u001b[0m\u001b[1;33m)\u001b[0m\u001b[1;33m\u001b[0m\u001b[1;33m\u001b[0m\u001b[0m\n\u001b[0m",
      "\u001b[1;32m<ipython-input-16-b025370ba309>\u001b[0m in \u001b[0;36mget_star\u001b[1;34m(target_res)\u001b[0m\n\u001b[0;32m     11\u001b[0m         \u001b[0mdriver\u001b[0m\u001b[1;33m.\u001b[0m\u001b[0mfind_element_by_id\u001b[0m\u001b[1;33m(\u001b[0m\u001b[1;34m'searchboxinput'\u001b[0m\u001b[1;33m)\u001b[0m\u001b[1;33m.\u001b[0m\u001b[0msend_keys\u001b[0m\u001b[1;33m(\u001b[0m\u001b[0mkeyword\u001b[0m\u001b[1;33m)\u001b[0m\u001b[1;33m\u001b[0m\u001b[1;33m\u001b[0m\u001b[0m\n\u001b[0;32m     12\u001b[0m         \u001b[0mxpath\u001b[0m \u001b[1;33m=\u001b[0m \u001b[1;34m\"//*[@id='searchbox-searchbutton']\"\u001b[0m\u001b[1;33m\u001b[0m\u001b[1;33m\u001b[0m\u001b[0m\n\u001b[1;32m---> 13\u001b[1;33m         \u001b[0mdriver\u001b[0m\u001b[1;33m.\u001b[0m\u001b[0mfind_element_by_xpath\u001b[0m\u001b[1;33m(\u001b[0m\u001b[0mxpath\u001b[0m\u001b[1;33m)\u001b[0m\u001b[1;33m.\u001b[0m\u001b[0mclick\u001b[0m\u001b[1;33m(\u001b[0m\u001b[1;33m)\u001b[0m\u001b[1;33m\u001b[0m\u001b[1;33m\u001b[0m\u001b[0m\n\u001b[0m\u001b[0;32m     14\u001b[0m        \u001b[1;31m# driver.find_element_by_id('searchbox-searchbutton').click()\u001b[0m\u001b[1;33m\u001b[0m\u001b[1;33m\u001b[0m\u001b[1;33m\u001b[0m\u001b[0m\n\u001b[0;32m     15\u001b[0m         \u001b[0mtime\u001b[0m\u001b[1;33m.\u001b[0m\u001b[0msleep\u001b[0m\u001b[1;33m(\u001b[0m\u001b[1;36m5\u001b[0m\u001b[1;33m)\u001b[0m\u001b[1;33m\u001b[0m\u001b[1;33m\u001b[0m\u001b[0m\n",
      "\u001b[1;32m~\\Anaconda3_\\lib\\site-packages\\selenium\\webdriver\\remote\\webdriver.py\u001b[0m in \u001b[0;36mfind_element_by_xpath\u001b[1;34m(self, xpath)\u001b[0m\n\u001b[0;32m    383\u001b[0m             \u001b[0melement\u001b[0m \u001b[1;33m=\u001b[0m \u001b[0mdriver\u001b[0m\u001b[1;33m.\u001b[0m\u001b[0mfind_element_by_xpath\u001b[0m\u001b[1;33m(\u001b[0m\u001b[1;34m'//div/td[1]'\u001b[0m\u001b[1;33m)\u001b[0m\u001b[1;33m\u001b[0m\u001b[1;33m\u001b[0m\u001b[0m\n\u001b[0;32m    384\u001b[0m         \"\"\"\n\u001b[1;32m--> 385\u001b[1;33m         \u001b[1;32mreturn\u001b[0m \u001b[0mself\u001b[0m\u001b[1;33m.\u001b[0m\u001b[0mfind_element\u001b[0m\u001b[1;33m(\u001b[0m\u001b[0mby\u001b[0m\u001b[1;33m=\u001b[0m\u001b[0mBy\u001b[0m\u001b[1;33m.\u001b[0m\u001b[0mXPATH\u001b[0m\u001b[1;33m,\u001b[0m \u001b[0mvalue\u001b[0m\u001b[1;33m=\u001b[0m\u001b[0mxpath\u001b[0m\u001b[1;33m)\u001b[0m\u001b[1;33m\u001b[0m\u001b[1;33m\u001b[0m\u001b[0m\n\u001b[0m\u001b[0;32m    386\u001b[0m \u001b[1;33m\u001b[0m\u001b[0m\n\u001b[0;32m    387\u001b[0m     \u001b[1;32mdef\u001b[0m \u001b[0mfind_elements_by_xpath\u001b[0m\u001b[1;33m(\u001b[0m\u001b[0mself\u001b[0m\u001b[1;33m,\u001b[0m \u001b[0mxpath\u001b[0m\u001b[1;33m)\u001b[0m\u001b[1;33m:\u001b[0m\u001b[1;33m\u001b[0m\u001b[1;33m\u001b[0m\u001b[0m\n",
      "\u001b[1;32m~\\Anaconda3_\\lib\\site-packages\\selenium\\webdriver\\remote\\webdriver.py\u001b[0m in \u001b[0;36mfind_element\u001b[1;34m(self, by, value)\u001b[0m\n\u001b[0;32m    953\u001b[0m         return self.execute(Command.FIND_ELEMENT, {\n\u001b[0;32m    954\u001b[0m             \u001b[1;34m'using'\u001b[0m\u001b[1;33m:\u001b[0m \u001b[0mby\u001b[0m\u001b[1;33m,\u001b[0m\u001b[1;33m\u001b[0m\u001b[1;33m\u001b[0m\u001b[0m\n\u001b[1;32m--> 955\u001b[1;33m             'value': value})['value']\n\u001b[0m\u001b[0;32m    956\u001b[0m \u001b[1;33m\u001b[0m\u001b[0m\n\u001b[0;32m    957\u001b[0m     \u001b[1;32mdef\u001b[0m \u001b[0mfind_elements\u001b[0m\u001b[1;33m(\u001b[0m\u001b[0mself\u001b[0m\u001b[1;33m,\u001b[0m \u001b[0mby\u001b[0m\u001b[1;33m=\u001b[0m\u001b[0mBy\u001b[0m\u001b[1;33m.\u001b[0m\u001b[0mID\u001b[0m\u001b[1;33m,\u001b[0m \u001b[0mvalue\u001b[0m\u001b[1;33m=\u001b[0m\u001b[1;32mNone\u001b[0m\u001b[1;33m)\u001b[0m\u001b[1;33m:\u001b[0m\u001b[1;33m\u001b[0m\u001b[1;33m\u001b[0m\u001b[0m\n",
      "\u001b[1;32m~\\Anaconda3_\\lib\\site-packages\\selenium\\webdriver\\remote\\webdriver.py\u001b[0m in \u001b[0;36mexecute\u001b[1;34m(self, driver_command, params)\u001b[0m\n\u001b[0;32m    310\u001b[0m         \u001b[0mresponse\u001b[0m \u001b[1;33m=\u001b[0m \u001b[0mself\u001b[0m\u001b[1;33m.\u001b[0m\u001b[0mcommand_executor\u001b[0m\u001b[1;33m.\u001b[0m\u001b[0mexecute\u001b[0m\u001b[1;33m(\u001b[0m\u001b[0mdriver_command\u001b[0m\u001b[1;33m,\u001b[0m \u001b[0mparams\u001b[0m\u001b[1;33m)\u001b[0m\u001b[1;33m\u001b[0m\u001b[1;33m\u001b[0m\u001b[0m\n\u001b[0;32m    311\u001b[0m         \u001b[1;32mif\u001b[0m \u001b[0mresponse\u001b[0m\u001b[1;33m:\u001b[0m\u001b[1;33m\u001b[0m\u001b[1;33m\u001b[0m\u001b[0m\n\u001b[1;32m--> 312\u001b[1;33m             \u001b[0mself\u001b[0m\u001b[1;33m.\u001b[0m\u001b[0merror_handler\u001b[0m\u001b[1;33m.\u001b[0m\u001b[0mcheck_response\u001b[0m\u001b[1;33m(\u001b[0m\u001b[0mresponse\u001b[0m\u001b[1;33m)\u001b[0m\u001b[1;33m\u001b[0m\u001b[1;33m\u001b[0m\u001b[0m\n\u001b[0m\u001b[0;32m    313\u001b[0m             response['value'] = self._unwrap_value(\n\u001b[0;32m    314\u001b[0m                 response.get('value', None))\n",
      "\u001b[1;32m~\\Anaconda3_\\lib\\site-packages\\selenium\\webdriver\\remote\\errorhandler.py\u001b[0m in \u001b[0;36mcheck_response\u001b[1;34m(self, response)\u001b[0m\n\u001b[0;32m    240\u001b[0m                 \u001b[0malert_text\u001b[0m \u001b[1;33m=\u001b[0m \u001b[0mvalue\u001b[0m\u001b[1;33m[\u001b[0m\u001b[1;34m'alert'\u001b[0m\u001b[1;33m]\u001b[0m\u001b[1;33m.\u001b[0m\u001b[0mget\u001b[0m\u001b[1;33m(\u001b[0m\u001b[1;34m'text'\u001b[0m\u001b[1;33m)\u001b[0m\u001b[1;33m\u001b[0m\u001b[1;33m\u001b[0m\u001b[0m\n\u001b[0;32m    241\u001b[0m             \u001b[1;32mraise\u001b[0m \u001b[0mexception_class\u001b[0m\u001b[1;33m(\u001b[0m\u001b[0mmessage\u001b[0m\u001b[1;33m,\u001b[0m \u001b[0mscreen\u001b[0m\u001b[1;33m,\u001b[0m \u001b[0mstacktrace\u001b[0m\u001b[1;33m,\u001b[0m \u001b[0malert_text\u001b[0m\u001b[1;33m)\u001b[0m\u001b[1;33m\u001b[0m\u001b[1;33m\u001b[0m\u001b[0m\n\u001b[1;32m--> 242\u001b[1;33m         \u001b[1;32mraise\u001b[0m \u001b[0mexception_class\u001b[0m\u001b[1;33m(\u001b[0m\u001b[0mmessage\u001b[0m\u001b[1;33m,\u001b[0m \u001b[0mscreen\u001b[0m\u001b[1;33m,\u001b[0m \u001b[0mstacktrace\u001b[0m\u001b[1;33m)\u001b[0m\u001b[1;33m\u001b[0m\u001b[1;33m\u001b[0m\u001b[0m\n\u001b[0m\u001b[0;32m    243\u001b[0m \u001b[1;33m\u001b[0m\u001b[0m\n\u001b[0;32m    244\u001b[0m     \u001b[1;32mdef\u001b[0m \u001b[0m_value_or_default\u001b[0m\u001b[1;33m(\u001b[0m\u001b[0mself\u001b[0m\u001b[1;33m,\u001b[0m \u001b[0mobj\u001b[0m\u001b[1;33m,\u001b[0m \u001b[0mkey\u001b[0m\u001b[1;33m,\u001b[0m \u001b[0mdefault\u001b[0m\u001b[1;33m)\u001b[0m\u001b[1;33m:\u001b[0m\u001b[1;33m\u001b[0m\u001b[1;33m\u001b[0m\u001b[0m\n",
      "\u001b[1;31mWebDriverException\u001b[0m: Message: unknown error: unknown sessionId\n  (Session info: chrome=84.0.4147.125)\n  (Driver info: chromedriver=2.37.544315 (730aa6a5fdba159ac9f4c1e8cbc59bf1b5ce12b7),platform=Windows NT 10.0.18363 x86_64)\n"
     ]
    }
   ],
   "source": [
    "match_top['star'] = get_star(match_top)"
   ]
  },
  {
   "cell_type": "code",
   "execution_count": 101,
   "metadata": {},
   "outputs": [],
   "source": [
    "# star_result = {}\n",
    "# score_url= 'https://www.google.com/maps'\n",
    "# def get_star(target_res):\n",
    "#     driver = webdriver.Chrome(executable_path='(driver) chromedriver.exe') \n",
    "#     driver.get(score_url)\n",
    "    \n",
    "\n",
    "#     for i in target_res.index:\n",
    "#         driver.find_element_by_id('searchboxinput').clear()\n",
    "#         keyword = final_food_df.iloc[i]['소재지지번주소'] +' ' + final_food_df.iloc[i]['식당']\n",
    "#         driver.find_element_by_id('searchboxinput').send_keys(keyword)\n",
    "#         search = driver.find_element_by_xpath(\"//button[@id='searchbox-searchbutton']\")\n",
    "#         search.click()\n",
    "#         time.sleep(5)\n",
    "\n",
    "#         star = driver.find_element_by_class_name('section-star-display')\n",
    "#         star_text = star.text\n",
    "#         star_result[i] = star_text\n",
    "#         print('{} \\n ★ {}점'.format(final_food_df.iloc[i]['식당'], star_text))\n",
    "#     driver.close()\n",
    "#     driver.quit()"
   ]
  },
  {
   "cell_type": "code",
   "execution_count": 21,
   "metadata": {
    "scrolled": true
   },
   "outputs": [
    {
     "data": {
      "text/html": [
       "<div>\n",
       "<style scoped>\n",
       "    .dataframe tbody tr th:only-of-type {\n",
       "        vertical-align: middle;\n",
       "    }\n",
       "\n",
       "    .dataframe tbody tr th {\n",
       "        vertical-align: top;\n",
       "    }\n",
       "\n",
       "    .dataframe thead th {\n",
       "        text-align: right;\n",
       "    }\n",
       "</style>\n",
       "<table border=\"1\" class=\"dataframe\">\n",
       "  <thead>\n",
       "    <tr style=\"text-align: right;\">\n",
       "      <th></th>\n",
       "      <th>시군명</th>\n",
       "      <th>소재지지번주소</th>\n",
       "      <th>식당</th>\n",
       "      <th>식당_영문명</th>\n",
       "      <th>최후의음식</th>\n",
       "      <th>위도</th>\n",
       "      <th>경도</th>\n",
       "      <th>dist</th>\n",
       "    </tr>\n",
       "  </thead>\n",
       "  <tbody>\n",
       "    <tr>\n",
       "      <th>988</th>\n",
       "      <td>성남시</td>\n",
       "      <td>경기도 성남시 수정구 금토동 272-33번지</td>\n",
       "      <td>홍루원</td>\n",
       "      <td>hongluwon</td>\n",
       "      <td>짬뽕</td>\n",
       "      <td>37.409503</td>\n",
       "      <td>127.097716</td>\n",
       "      <td>1.213157</td>\n",
       "    </tr>\n",
       "    <tr>\n",
       "      <th>925</th>\n",
       "      <td>성남시</td>\n",
       "      <td>경기도 성남시 수정구 태평동 3564번지</td>\n",
       "      <td>바다해물짬뽕</td>\n",
       "      <td>badahaemuljjamppong</td>\n",
       "      <td>짬뽕</td>\n",
       "      <td>37.443914</td>\n",
       "      <td>127.134316</td>\n",
       "      <td>5.502020</td>\n",
       "    </tr>\n",
       "    <tr>\n",
       "      <th>586</th>\n",
       "      <td>남양주시</td>\n",
       "      <td>경기도 남양주시 와부읍 팔당리 428번지</td>\n",
       "      <td>강릉짬뽕순두부</td>\n",
       "      <td>gangleungjjamppongsundubu</td>\n",
       "      <td>짬뽕</td>\n",
       "      <td>37.550321</td>\n",
       "      <td>127.238387</td>\n",
       "      <td>20.420754</td>\n",
       "    </tr>\n",
       "    <tr>\n",
       "      <th>24</th>\n",
       "      <td>고양시</td>\n",
       "      <td>경기도 고양시 일산동구 정발산동 1262-1번지</td>\n",
       "      <td>뿅의 전설</td>\n",
       "      <td>ppyong-ui jeonseol</td>\n",
       "      <td>짬뽕</td>\n",
       "      <td>37.674687</td>\n",
       "      <td>126.783488</td>\n",
       "      <td>41.651388</td>\n",
       "    </tr>\n",
       "    <tr>\n",
       "      <th>3</th>\n",
       "      <td>고양시</td>\n",
       "      <td>경기도 고양시 일산서구 대화동 2101번지</td>\n",
       "      <td>정통중화요리 남궁</td>\n",
       "      <td>igyeongsughalmeonieumsigjeom</td>\n",
       "      <td>짬뽕</td>\n",
       "      <td>37.682042</td>\n",
       "      <td>126.753550</td>\n",
       "      <td>44.067686</td>\n",
       "    </tr>\n",
       "  </tbody>\n",
       "</table>\n",
       "</div>"
      ],
      "text/plain": [
       "      시군명                     소재지지번주소         식당  \\\n",
       "988   성남시    경기도 성남시 수정구 금토동 272-33번지        홍루원   \n",
       "925   성남시      경기도 성남시 수정구 태평동 3564번지     바다해물짬뽕   \n",
       "586  남양주시      경기도 남양주시 와부읍 팔당리 428번지    강릉짬뽕순두부   \n",
       "24    고양시  경기도 고양시 일산동구 정발산동 1262-1번지      뿅의 전설   \n",
       "3     고양시     경기도 고양시 일산서구 대화동 2101번지  정통중화요리 남궁   \n",
       "\n",
       "                           식당_영문명 최후의음식         위도          경도       dist  \n",
       "988                     hongluwon    짬뽕  37.409503  127.097716   1.213157  \n",
       "925           badahaemuljjamppong    짬뽕  37.443914  127.134316   5.502020  \n",
       "586     gangleungjjamppongsundubu    짬뽕  37.550321  127.238387  20.420754  \n",
       "24             ppyong-ui jeonseol    짬뽕  37.674687  126.783488  41.651388  \n",
       "3    igyeongsughalmeonieumsigjeom    짬뽕  37.682042  126.753550  44.067686  "
      ]
     },
     "execution_count": 21,
     "metadata": {},
     "output_type": "execute_result"
    }
   ],
   "source": [
    "match_top"
   ]
  },
  {
   "cell_type": "code",
   "execution_count": 14,
   "metadata": {},
   "outputs": [
    {
     "data": {
      "text/plain": [
       "1033    성남시 분당구 삼평동\n",
       "912     성남시 분당구 삼평동\n",
       "1018    성남시 분당구 판교동\n",
       "1101    성남시 분당구 이매동\n",
       "1085    성남시 분당구 서현동\n",
       "989     성남시 수정구 시흥동\n",
       "1080    성남시 분당구 야탑동\n",
       "941     성남시 중원구 여수동\n",
       "1094    성남시 분당구 야탑동\n",
       "1107    성남시 분당구 궁내동\n",
       "Name: 소재지지번주소, dtype: object"
      ]
     },
     "execution_count": 14,
     "metadata": {},
     "output_type": "execute_result"
    }
   ],
   "source": [
    "match_top['소재지지번주소'].apply(lambda x : ' '.join(x.split()[1:-1]))"
   ]
  },
  {
   "cell_type": "code",
   "execution_count": 24,
   "metadata": {
    "scrolled": true
   },
   "outputs": [
    {
     "data": {
      "text/html": [
       "<div style=\"width:100%;\"><div style=\"position:relative;width:100%;height:0;padding-bottom:60%;\"><span style=\"color:#565656\">Make this Notebook Trusted to load map: File -> Trust Notebook</span><iframe src=\"about:blank\" style=\"position:absolute;width:100%;height:100%;left:0;top:0;border:none !important;\" data-html=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 onload=\"this.contentDocument.open();this.contentDocument.write(atob(this.getAttribute('data-html')));this.contentDocument.close();\" allowfullscreen webkitallowfullscreen mozallowfullscreen></iframe></div></div>"
      ],
      "text/plain": [
       "<folium.folium.Map at 0x20acd98ff28>"
      ]
     },
     "execution_count": 24,
     "metadata": {},
     "output_type": "execute_result"
    }
   ],
   "source": [
    "# 지도 시각화\n",
    "geo_path = 'Gyeonggi_municipalities-geo.json'\n",
    "#경기도 행정구역만 정리된 json파일 불러오기\n",
    "geo_str = json.load(open(geo_path, encoding='utf-8'))\n",
    "\n",
    "geo_str['features'][0]\n",
    "\n",
    "map_1 = folium.Map(\n",
    "    location=[37.400253, 127.104999],\n",
    "    zoom_start=13\n",
    ")\n",
    "# marker_cluster 만들어주는 부분\n",
    "mcg = folium.plugins.MarkerCluster(control=False) \n",
    "map_1.add_child(mcg)\n",
    "\n",
    "# subgroup 만드는 부분\n",
    "\n",
    "g1 = plugins.FeatureGroupSubGroup(mcg,'Near 10 restaurant')\n",
    "map_1.add_child(g1)\n",
    "g2 = plugins.FeatureGroupSubGroup(mcg,'Other restaurant')\n",
    "map_1.add_child(g2)\n",
    "\n",
    "# icon_img 넣어주는 부분\n",
    "icon_img = folium.features.CustomIcon('icon.png', icon_size=(50, 50))\n",
    "marker_icon = folium.Marker([37.400253, 127.104999], \n",
    "                        tooltip='Here!',\n",
    "                        icon=icon_img)\n",
    "\n",
    "marker_icon.add_to(map_1)\n",
    "\n",
    "\n",
    "\n",
    "\n",
    "\n",
    "\n",
    "with open(geo_path,mode='rt',encoding='utf-8') as f:\n",
    "    geo = json.loads(f.read())\n",
    "    f.close()\n",
    "\n",
    "\n",
    "str_x = str(x)\n",
    "\n",
    "for i in range(len(match_top)):\n",
    "    # 행 우선 접근 방식으로 값 추출하기\n",
    "    temp = []\n",
    "    name_top = match_top.iloc[i]['식당_영문명']\n",
    "    name_top_star = match_top.iloc[i]['식당_영문명'] #+ ' ★ ' + match_top.iloc[i]['star']\n",
    "    lat_top = match_top.iloc[i]['위도']\n",
    "    lng_top = match_top.iloc[i]['경도']\n",
    "    icon = folium.Icon(icon='star',color='red')\n",
    "    # 추출한 정보를 지도에 표시\n",
    "    \n",
    "    temp.append(lat_top)\n",
    "    temp.append(lng_top)\n",
    "    temp = str(temp)\n",
    "    \n",
    "    start = str_x[1:-1]\n",
    "    end = temp[1:-1]\n",
    "    url =\"https://www.google.com/maps/dir/\"+ start +  \"/\" + end + \"/@37.3956279,126.8705842,11z/data=!3m1!4b1?hl=en\"\n",
    "    tooltip =  name_top_star\n",
    "#   folium.Popup('<a href=\" [URL GOES HERE] \"target=\"_blank\"> [text for link goes here]' </a>')\n",
    "    popup = folium.Popup('<a href=\\\"'+url+ '\"> How to go to '+ name_top +'  </a>', max_width=200)\n",
    "    \n",
    "    marker_top = folium.Marker([lat_top,lng_top],popup=popup,tooltip= tooltip,icon=icon)\n",
    "\n",
    "    marker_top.add_to(g1)\n",
    "    \n",
    "for i in range(len(match_food)):\n",
    "    \n",
    "    name = match_food.iloc[i]['식당']\n",
    "    lat = match_food.iloc[i]['위도']\n",
    "    lng = match_food.iloc[i]['경도']\n",
    "\n",
    "    # 추출한 정보를 지도에 표시\n",
    "    popup_other = folium.Popup(name, max_width=200)\n",
    "    marker = folium.Marker([lat,lng], popup=popup_other)\n",
    "    marker.add_to(g2)\n",
    "    \n",
    "folium.LayerControl(collapsed=False).add_to(map_1)\n",
    "map_1.save('Foodmap.html')\n",
    "map_1\n",
    "\n",
    "#한글 깨지는 문제는 html 파일로 저장하면 문제 해결_"
   ]
  },
  {
   "cell_type": "code",
   "execution_count": null,
   "metadata": {},
   "outputs": [],
   "source": [
    "plugins."
   ]
  }
 ],
 "metadata": {
  "kernelspec": {
   "display_name": "Python 3",
   "language": "python",
   "name": "python3"
  },
  "language_info": {
   "codemirror_mode": {
    "name": "ipython",
    "version": 3
   },
   "file_extension": ".py",
   "mimetype": "text/x-python",
   "name": "python",
   "nbconvert_exporter": "python",
   "pygments_lexer": "ipython3",
   "version": "3.7.3"
  }
 },
 "nbformat": 4,
 "nbformat_minor": 2
}
